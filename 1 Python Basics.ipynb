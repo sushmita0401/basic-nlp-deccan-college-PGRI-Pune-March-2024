{
 "cells": [
  {
   "cell_type": "code",
   "execution_count": 1,
   "id": "3a729d89-8c60-4add-9f02-61dabb31b883",
   "metadata": {},
   "outputs": [
    {
     "name": "stdout",
     "output_type": "stream",
     "text": [
      "Hello World\n"
     ]
    }
   ],
   "source": [
    "print( 'Hello World')"
   ]
  },
  {
   "cell_type": "code",
   "execution_count": 2,
   "id": "d9720e74-da0d-4609-b2bc-ba843843890b",
   "metadata": {},
   "outputs": [
    {
     "name": "stdout",
     "output_type": "stream",
     "text": [
      "Hello World\n"
     ]
    }
   ],
   "source": [
    "print (\"Hello World\")"
   ]
  },
  {
   "cell_type": "code",
   "execution_count": 3,
   "id": "7e9bf470-e21a-4f7c-9c05-85b7ba1df597",
   "metadata": {},
   "outputs": [
    {
     "name": "stdout",
     "output_type": "stream",
     "text": [
      "Hello World\n"
     ]
    }
   ],
   "source": [
    "print (\"Hello World\")\n"
   ]
  },
  {
   "cell_type": "code",
   "execution_count": 4,
   "id": "fa335701-e43b-4c88-92c6-62d1c8a5bed2",
   "metadata": {},
   "outputs": [
    {
     "name": "stdout",
     "output_type": "stream",
     "text": [
      "Hello World\n",
      "Hello and Welcome\n",
      "Hi Everyone\n"
     ]
    }
   ],
   "source": [
    "print (\"Hello World\")\n",
    "print (\"Hello and Welcome\")\n",
    "print ( \"Hi Everyone\")"
   ]
  },
  {
   "cell_type": "code",
   "execution_count": 5,
   "id": "dab8cdd2-d264-4b02-ac95-6d7d1b8c7518",
   "metadata": {},
   "outputs": [
    {
     "name": "stdout",
     "output_type": "stream",
     "text": [
      "45\n"
     ]
    }
   ],
   "source": [
    "num= 45\n",
    "print(num)"
   ]
  },
  {
   "cell_type": "code",
   "execution_count": 6,
   "id": "09ef3910-608d-4180-a451-dec41f1c38fc",
   "metadata": {},
   "outputs": [
    {
     "name": "stdout",
     "output_type": "stream",
     "text": [
      "45 67.23\n"
     ]
    }
   ],
   "source": [
    "num1 =45\n",
    "num2= 67.23\n",
    "print( num1, num2)"
   ]
  },
  {
   "cell_type": "code",
   "execution_count": 7,
   "id": "3f9b8fcc-bf70-4c6b-ba2a-6652432f8cfa",
   "metadata": {},
   "outputs": [
    {
     "ename": "SyntaxError",
     "evalue": "incomplete input (498029002.py, line 1)",
     "output_type": "error",
     "traceback": [
      "\u001b[1;36m  Cell \u001b[1;32mIn[7], line 1\u001b[1;36m\u001b[0m\n\u001b[1;33m    print  (num1,num2\u001b[0m\n\u001b[1;37m                     ^\u001b[0m\n\u001b[1;31mSyntaxError\u001b[0m\u001b[1;31m:\u001b[0m incomplete input\n"
     ]
    }
   ],
   "source": [
    "print  (num1,num2"
   ]
  },
  {
   "cell_type": "code",
   "execution_count": 8,
   "id": "de702533-fdf4-407c-80fa-3fce16d9730b",
   "metadata": {},
   "outputs": [
    {
     "data": {
      "text/plain": [
       "int"
      ]
     },
     "execution_count": 8,
     "metadata": {},
     "output_type": "execute_result"
    }
   ],
   "source": [
    "num1 = 45\n",
    "type (num1)"
   ]
  },
  {
   "cell_type": "code",
   "execution_count": 9,
   "id": "b2fd7182-7e7e-44b9-b7dc-cae7f32003e4",
   "metadata": {},
   "outputs": [
    {
     "data": {
      "text/plain": [
       "float"
      ]
     },
     "execution_count": 9,
     "metadata": {},
     "output_type": "execute_result"
    }
   ],
   "source": [
    "num2 =34.6\n",
    "type (num2)"
   ]
  },
  {
   "cell_type": "code",
   "execution_count": 11,
   "id": "667df5af-8e03-41ff-b483-5a480cd87a7d",
   "metadata": {},
   "outputs": [
    {
     "data": {
      "text/plain": [
       "str"
      ]
     },
     "execution_count": 11,
     "metadata": {},
     "output_type": "execute_result"
    }
   ],
   "source": [
    "num3 =\"Sushmita\"\n",
    "type (num3)"
   ]
  },
  {
   "cell_type": "code",
   "execution_count": 12,
   "id": "15106fc5-a026-4d3b-8dc9-7fb3740c8198",
   "metadata": {},
   "outputs": [
    {
     "name": "stdout",
     "output_type": "stream",
     "text": [
      "75684864478949949484747747\n"
     ]
    }
   ],
   "source": [
    "num = 75684864478949949484747747\n",
    "print(num)"
   ]
  },
  {
   "cell_type": "code",
   "execution_count": 13,
   "id": "781fdb0b-1c6c-4965-a37b-e7521a154516",
   "metadata": {},
   "outputs": [
    {
     "data": {
      "text/plain": [
       "983903238226349343301720711"
      ]
     },
     "execution_count": 13,
     "metadata": {},
     "output_type": "execute_result"
    }
   ],
   "source": [
    "num *13"
   ]
  },
  {
   "cell_type": "code",
   "execution_count": null,
   "id": "51702dce-88d2-4de9-9b17-f2785e3e74fe",
   "metadata": {},
   "outputs": [],
   "source": [
    "num1 , num2, num4 =34, 45, 78.8\n"
   ]
  },
  {
   "cell_type": "code",
   "execution_count": 14,
   "id": "4a9fb3dc-f72a-4bc4-9dd8-b727654492b6",
   "metadata": {},
   "outputs": [
    {
     "name": "stdout",
     "output_type": "stream",
     "text": [
      "45\n"
     ]
    }
   ],
   "source": [
    "print (num1)"
   ]
  },
  {
   "cell_type": "code",
   "execution_count": 19,
   "id": "51b377bc-142f-4ced-99a8-842a360a89c5",
   "metadata": {},
   "outputs": [
    {
     "name": "stdout",
     "output_type": "stream",
     "text": [
      "55\n"
     ]
    }
   ],
   "source": [
    "num1 , num2 =32 ,23\n",
    "add = num1 + num2\n",
    "print (add)\n"
   ]
  },
  {
   "cell_type": "code",
   "execution_count": 20,
   "id": "5d40038c",
   "metadata": {},
   "outputs": [
    {
     "name": "stdout",
     "output_type": "stream",
     "text": [
      "addition is 55\n"
     ]
    }
   ],
   "source": [
    "num1 , num2 =32 ,23\n",
    "add = num1 + num2\n",
    "print ( \"addition is\" ,add)\n"
   ]
  },
  {
   "cell_type": "code",
   "execution_count": 42,
   "id": "e54d3c13-ca25-48a2-91a4-9180fd43f368",
   "metadata": {},
   "outputs": [],
   "source": [
    "name = 'Tukun'"
   ]
  },
  {
   "cell_type": "code",
   "execution_count": 43,
   "id": "bee737d4",
   "metadata": {},
   "outputs": [
    {
     "name": "stdout",
     "output_type": "stream",
     "text": [
      "Tukun\n"
     ]
    }
   ],
   "source": [
    "print(name)"
   ]
  },
  {
   "cell_type": "code",
   "execution_count": 24,
   "id": "06c646cd-5ac9-495a-ace9-2ecc5e5be2e3",
   "metadata": {},
   "outputs": [
    {
     "name": "stdout",
     "output_type": "stream",
     "text": [
      "I like \"Python\" programming\n"
     ]
    }
   ],
   "source": [
    "sent= 'I like \"Python\" programming'\n",
    "print(sent)\n"
   ]
  },
  {
   "cell_type": "code",
   "execution_count": null,
   "id": "b0a0098e-2dcb-4e24-932d-256d58832913",
   "metadata": {},
   "outputs": [],
   "source": [
    "sent = \" I like 'Python' Programming\"\n"
   ]
  },
  {
   "cell_type": "code",
   "execution_count": 25,
   "id": "a7563aef-468f-4f17-8ce3-3eaf78094b52",
   "metadata": {},
   "outputs": [
    {
     "name": "stdout",
     "output_type": "stream",
     "text": [
      "I like \"Python\" programming\n"
     ]
    }
   ],
   "source": [
    "print(sent)"
   ]
  },
  {
   "cell_type": "code",
   "execution_count": 36,
   "id": "8ddafc42-5ddf-414f-a88a-2445e9e957b1",
   "metadata": {},
   "outputs": [],
   "source": [
    "name = 'Sushmita'\n",
    "\n",
    "\n"
   ]
  },
  {
   "cell_type": "code",
   "execution_count": 32,
   "id": "d7be757e-c020-45f9-b656-38a07478d7c5",
   "metadata": {},
   "outputs": [
    {
     "name": "stdout",
     "output_type": "stream",
     "text": [
      "name\n"
     ]
    }
   ],
   "source": [
    "print('name')"
   ]
  },
  {
   "cell_type": "code",
   "execution_count": 37,
   "id": "d6ffab49-0196-4a58-8cb1-4098e0083264",
   "metadata": {},
   "outputs": [
    {
     "data": {
      "text/plain": [
       "'SUSHMITA'"
      ]
     },
     "execution_count": 37,
     "metadata": {},
     "output_type": "execute_result"
    }
   ],
   "source": [
    "name.upper()"
   ]
  },
  {
   "cell_type": "code",
   "execution_count": 55,
   "id": "d92f4020-42a8-4a24-a591-7555c73c23c6",
   "metadata": {},
   "outputs": [
    {
     "data": {
      "text/plain": [
       "'tukun'"
      ]
     },
     "execution_count": 55,
     "metadata": {},
     "output_type": "execute_result"
    }
   ],
   "source": [
    "name.lower()\n"
   ]
  },
  {
   "cell_type": "code",
   "execution_count": 38,
   "id": "3261c5a4-7a49-4d67-a745-648e413e3775",
   "metadata": {},
   "outputs": [
    {
     "data": {
      "text/plain": [
       "'SushmitaPune'"
      ]
     },
     "execution_count": 38,
     "metadata": {},
     "output_type": "execute_result"
    }
   ],
   "source": [
    "name + \"Pune\""
   ]
  },
  {
   "cell_type": "code",
   "execution_count": 44,
   "id": "aeabc9d9-93b8-4edd-81a7-51f7be0da7a7",
   "metadata": {},
   "outputs": [
    {
     "data": {
      "text/plain": [
       "'Tukun Tukun Tukun '"
      ]
     },
     "execution_count": 44,
     "metadata": {},
     "output_type": "execute_result"
    }
   ],
   "source": [
    "( name + \" \") * 3"
   ]
  },
  {
   "cell_type": "code",
   "execution_count": 45,
   "id": "5b0664b0-7619-4a86-89b1-a049532865a6",
   "metadata": {},
   "outputs": [
    {
     "name": "stdout",
     "output_type": "stream",
     "text": [
      "Addition is 101\n"
     ]
    }
   ],
   "source": [
    "# This is my addition program\n",
    "num1 , num2 = 56 , 45\n",
    "add = num1 + num2 # This is addition statement\n",
    "print( 'Addition is' , add)"
   ]
  },
  {
   "cell_type": "code",
   "execution_count": 46,
   "id": "14b192e9-9cb6-4def-b6eb-0f1f10b6f5d3",
   "metadata": {},
   "outputs": [
    {
     "name": "stdout",
     "output_type": "stream",
     "text": [
      " Hello guys! \n",
      "How you doin!\n",
      "I am FINE!\n"
     ]
    }
   ],
   "source": [
    "# Multi line string\n",
    "line= ''' Hello guys! \n",
    "How you doin!\n",
    "I am FINE!'''\n",
    "print(line)"
   ]
  },
  {
   "cell_type": "code",
   "execution_count": 48,
   "id": "2fc999f3-54da-4f35-8adb-7bda72de7b00",
   "metadata": {},
   "outputs": [
    {
     "name": "stdout",
     "output_type": "stream",
     "text": [
      "सुश्मिता पाल\n"
     ]
    }
   ],
   "source": [
    " name = \"सुश्मिता पाल\"\n",
    "print (name)"
   ]
  },
  {
   "cell_type": "code",
   "execution_count": 50,
   "id": "1a1f77fe-c957-4d97-866b-e49d6680635a",
   "metadata": {},
   "outputs": [
    {
     "data": {
      "text/plain": [
       "True"
      ]
     },
     "execution_count": 50,
     "metadata": {},
     "output_type": "execute_result"
    }
   ],
   "source": [
    "name.startswith(\"सु\")"
   ]
  },
  {
   "cell_type": "code",
   "execution_count": 51,
   "id": "c9e34825-0965-4e2f-96f6-4b6054c88d3a",
   "metadata": {},
   "outputs": [
    {
     "data": {
      "text/plain": [
       "True"
      ]
     },
     "execution_count": 51,
     "metadata": {},
     "output_type": "execute_result"
    }
   ],
   "source": [
    "name.endswith(\"ल\")"
   ]
  },
  {
   "cell_type": "code",
   "execution_count": 52,
   "id": "0307b661-cba4-49ab-b880-f31a1db88b7a",
   "metadata": {},
   "outputs": [
    {
     "data": {
      "text/plain": [
       "False"
      ]
     },
     "execution_count": 52,
     "metadata": {},
     "output_type": "execute_result"
    }
   ],
   "source": [
    "name.endswith(\"प\")"
   ]
  },
  {
   "cell_type": "code",
   "execution_count": 53,
   "id": "504ef3ba-54a3-441d-b636-3850dc38c1bf",
   "metadata": {},
   "outputs": [],
   "source": [
    "name= 'Tukun'\n",
    "marks= 97"
   ]
  },
  {
   "cell_type": "code",
   "execution_count": 54,
   "id": "5454e6bd-5462-4341-9c56-3c4543e08de0",
   "metadata": {},
   "outputs": [
    {
     "name": "stdout",
     "output_type": "stream",
     "text": [
      "My name is Tukun My marks are 97\n"
     ]
    }
   ],
   "source": [
    "print( 'My name is' , name ,'My marks are', marks)\n"
   ]
  },
  {
   "cell_type": "code",
   "execution_count": 56,
   "id": "5fdbb435-dd36-4fe9-9a1a-ac6872453930",
   "metadata": {},
   "outputs": [
    {
     "name": "stdout",
     "output_type": "stream",
     "text": [
      "My name is Tukun and marks are 97.000000\n"
     ]
    }
   ],
   "source": [
    " print( 'My name is %s and marks are %f' %( name, marks))"
   ]
  },
  {
   "cell_type": "code",
   "execution_count": 57,
   "id": "6de6a872",
   "metadata": {},
   "outputs": [
    {
     "name": "stdout",
     "output_type": "stream",
     "text": [
      "My name is Tukun and marks are 97\n"
     ]
    }
   ],
   "source": [
    " print( 'My name is %s and marks are %i' %( name, marks))"
   ]
  },
  {
   "cell_type": "code",
   "execution_count": 58,
   "id": "18488516-198b-4e8d-90f6-e3bb48fe36c3",
   "metadata": {},
   "outputs": [],
   "source": [
    "# Aritmetic operations \n",
    "num1 = 34\n",
    "num2= 45\n",
    "\n"
   ]
  },
  {
   "cell_type": "code",
   "execution_count": 59,
   "id": "71cd3085-4efa-4d84-bf81-c935061ddd8b",
   "metadata": {},
   "outputs": [
    {
     "name": "stdout",
     "output_type": "stream",
     "text": [
      "Addition: 79\n",
      " Substraction: -11\n",
      "Multiplication: 1530\n",
      "Division: 0.7555555555555555\n",
      " Floor division: 0\n",
      "Remainder: 34\n",
      "Power of: 825184889837725994971915471173621692744697928074424045623011467853824\n"
     ]
    }
   ],
   "source": [
    "add =num1 + num2\n",
    "print( 'Addition:', add)\n",
    "sub = num1 -num2\n",
    "print( ' Substraction:' , sub)\n",
    "mul= num1* num2\n",
    "print( 'Multiplication:' , mul)\n",
    "div = num1 / num2\n",
    "print( 'Division:' , div)\n",
    "div = num1 // num2\n",
    "print( ' Floor division:' , div)\n",
    "rem = num1 % num2  # mod operatpor - finds remainder of division\n",
    "print ( 'Remainder:' , rem)\n",
    "pow= num1 ** num2\n",
    "print( 'Power of:' , pow)\n",
    "\n",
    "\n",
    "\n",
    "\n",
    "\n",
    "\n"
   ]
  },
  {
   "cell_type": "code",
   "execution_count": 60,
   "id": "95755c95-c5e4-494f-b049-8101aa0813bd",
   "metadata": {},
   "outputs": [
    {
     "name": "stdout",
     "output_type": "stream",
     "text": [
      "Greater  than              : False\n",
      "Less than                  : True\n",
      "Greater than or equal to   : False\n",
      "Less than or equal to      : True\n",
      "Equal to                  : False\n",
      " Not Equal to             : True\n"
     ]
    }
   ],
   "source": [
    "# Relational Operations\n",
    "print ('Greater  than              :', num1 >num2)\n",
    "print ('Less than                  :', num1< num2)\n",
    "print ('Greater than or equal to   :', num1 >= num2)\n",
    "print ('Less than or equal to      :', num1 <= num2)\n",
    "print ( 'Equal to                  :', num1 == num2)\n",
    "print ( ' Not Equal to             :', num1 != num2)\n",
    "\n",
    "\n"
   ]
  },
  {
   "cell_type": "code",
   "execution_count": 62,
   "id": "bbe3c09e-2dfd-454f-a913-7407601fe687",
   "metadata": {},
   "outputs": [
    {
     "name": "stdin",
     "output_type": "stream",
     "text": [
      "Enter first number: 34\n",
      "Enter second number: 45\n"
     ]
    },
    {
     "name": "stdout",
     "output_type": "stream",
     "text": [
      "Addition is: 79\n"
     ]
    }
   ],
   "source": [
    "# Program to find the addition of two numbers\n",
    "num1 = int( input('Enter first number:'))\n",
    "num2 = int(input( 'Enter second number:'))\n",
    "add= num1 + num2\n",
    "print( 'Addition is:' , add)\n",
    "\n"
   ]
  },
  {
   "cell_type": "code",
   "execution_count": 61,
   "id": "6f341567-0876-4ab7-89ad-c1b20452d99f",
   "metadata": {},
   "outputs": [
    {
     "name": "stdin",
     "output_type": "stream",
     "text": [
      "Enter your name: Sushmita\n"
     ]
    },
    {
     "name": "stdout",
     "output_type": "stream",
     "text": [
      " Your name in upper case: SUSHMITA\n"
     ]
    }
   ],
   "source": [
    "name = input ( 'Enter your name:')\n",
    "print( ' Your name in upper case:', name.upper())"
   ]
  },
  {
   "cell_type": "code",
   "execution_count": null,
   "id": "0cb80240-06f4-4d84-b3f4-e54811242ff3",
   "metadata": {},
   "outputs": [],
   "source": []
  }
 ],
 "metadata": {
  "kernelspec": {
   "display_name": "Python 3 (ipykernel)",
   "language": "python",
   "name": "python3"
  },
  "language_info": {
   "codemirror_mode": {
    "name": "ipython",
    "version": 3
   },
   "file_extension": ".py",
   "mimetype": "text/x-python",
   "name": "python",
   "nbconvert_exporter": "python",
   "pygments_lexer": "ipython3",
   "version": "3.11.7"
  }
 },
 "nbformat": 4,
 "nbformat_minor": 5
}
