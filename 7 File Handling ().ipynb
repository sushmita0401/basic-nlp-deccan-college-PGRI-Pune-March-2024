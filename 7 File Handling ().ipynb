{
 "cells": [
  {
   "cell_type": "markdown",
   "id": "975c2513-c28d-4125-9ef0-d833779df415",
   "metadata": {},
   "source": [
    "##### Open and read the file"
   ]
  },
  {
   "cell_type": "code",
   "execution_count": 1,
   "id": "1c5e27c2-9693-4c31-8529-0735ae769822",
   "metadata": {},
   "outputs": [],
   "source": [
    "f= open('Test.txt')"
   ]
  },
  {
   "cell_type": "code",
   "execution_count": 2,
   "id": "d0af3095-746d-492f-a791-30eb58e62830",
   "metadata": {},
   "outputs": [
    {
     "data": {
      "text/plain": [
       "<_io.TextIOWrapper name='Test.txt' mode='r' encoding='cp1252'>"
      ]
     },
     "execution_count": 2,
     "metadata": {},
     "output_type": "execute_result"
    }
   ],
   "source": [
    "f"
   ]
  },
  {
   "cell_type": "code",
   "execution_count": 7,
   "id": "08dc8d3d-1be7-4dfe-951c-d6a13afbaab1",
   "metadata": {},
   "outputs": [
    {
     "data": {
      "text/plain": [
       "True"
      ]
     },
     "execution_count": 7,
     "metadata": {},
     "output_type": "execute_result"
    }
   ],
   "source": [
    "f.readable()     # Checks for readability"
   ]
  },
  {
   "cell_type": "code",
   "execution_count": 12,
   "id": "360866f2-b0e2-4b91-8e40-6b9b814a3a50",
   "metadata": {},
   "outputs": [],
   "source": [
    "f= open('Test.txt')"
   ]
  },
  {
   "cell_type": "code",
   "execution_count": 13,
   "id": "7f0eedf1-360e-4adf-a83f-a2d7e85f91c2",
   "metadata": {},
   "outputs": [],
   "source": [
    "lines= f.readlines() # reads all the lines at once"
   ]
  },
  {
   "cell_type": "code",
   "execution_count": 14,
   "id": "2739cc44-0cf9-41c2-9b6d-b360d9efc7cc",
   "metadata": {},
   "outputs": [
    {
     "data": {
      "text/plain": [
       "['Hello friends!\\n',\n",
       " 'How are you?\\n',\n",
       " 'Welcome to the exciting world of Python Programing.\\n']"
      ]
     },
     "execution_count": 14,
     "metadata": {},
     "output_type": "execute_result"
    }
   ],
   "source": [
    "lines"
   ]
  },
  {
   "cell_type": "code",
   "execution_count": 15,
   "id": "6b38699f-a1c9-4c93-a258-a059d47e2af6",
   "metadata": {},
   "outputs": [],
   "source": [
    "f= open('Test.txt')"
   ]
  },
  {
   "cell_type": "code",
   "execution_count": 16,
   "id": "8ca44d0b-46b3-4bcf-bfea-404c578ac569",
   "metadata": {},
   "outputs": [
    {
     "data": {
      "text/plain": [
       "'Hello friends!\\n'"
      ]
     },
     "execution_count": 16,
     "metadata": {},
     "output_type": "execute_result"
    }
   ],
   "source": [
    "f.readline()"
   ]
  },
  {
   "cell_type": "code",
   "execution_count": 17,
   "id": "d7194e22-9e4f-47e5-b0a0-c9622b56cc0c",
   "metadata": {},
   "outputs": [
    {
     "data": {
      "text/plain": [
       "'How are you?\\n'"
      ]
     },
     "execution_count": 17,
     "metadata": {},
     "output_type": "execute_result"
    }
   ],
   "source": [
    "f.readline()"
   ]
  },
  {
   "cell_type": "code",
   "execution_count": 18,
   "id": "6899426b-bc67-469c-a85a-b3432c21f0aa",
   "metadata": {},
   "outputs": [
    {
     "data": {
      "text/plain": [
       "'Welcome to the exciting world of Python Programing.\\n'"
      ]
     },
     "execution_count": 18,
     "metadata": {},
     "output_type": "execute_result"
    }
   ],
   "source": [
    "f.readline()    "
   ]
  },
  {
   "cell_type": "code",
   "execution_count": 19,
   "id": "1b02c746-8c83-436a-8a9c-781502205d18",
   "metadata": {},
   "outputs": [
    {
     "name": "stdout",
     "output_type": "stream",
     "text": [
      "Hello friends!\n",
      "\n",
      "How are you?\n",
      "\n",
      "Welcome to the exciting world of Python Programing.\n",
      "\n"
     ]
    }
   ],
   "source": [
    "for line in lines:\n",
    "    print(line)"
   ]
  },
  {
   "cell_type": "code",
   "execution_count": 20,
   "id": "fa89ae6d-4078-4f6a-b514-231819f38608",
   "metadata": {},
   "outputs": [],
   "source": [
    "f= open('Test.txt')"
   ]
  },
  {
   "cell_type": "code",
   "execution_count": 21,
   "id": "00d3d2e3-0b1a-409b-b504-4a3b8117ffa5",
   "metadata": {},
   "outputs": [],
   "source": [
    "data = f.read()        # String format"
   ]
  },
  {
   "cell_type": "code",
   "execution_count": 22,
   "id": "07249feb-bf21-4c8e-ae32-528edeb944c4",
   "metadata": {},
   "outputs": [
    {
     "name": "stdout",
     "output_type": "stream",
     "text": [
      "Hello friends!\n",
      "How are you?\n",
      "Welcome to the exciting world of Python Programing.\n",
      "\n"
     ]
    }
   ],
   "source": [
    "print(data)"
   ]
  },
  {
   "cell_type": "code",
   "execution_count": 24,
   "id": "fb786628-fb19-48d4-890d-ff3c0571f977",
   "metadata": {},
   "outputs": [],
   "source": [
    "f.close()"
   ]
  },
  {
   "cell_type": "markdown",
   "id": "7a655645-5256-44f7-b1f4-af23949994e1",
   "metadata": {},
   "source": [
    "##### Example: Open the file and count how many times 'the' is present in it."
   ]
  },
  {
   "cell_type": "code",
   "execution_count": 44,
   "id": "f05ff728-5d59-4583-8f65-cf60e3c93b32",
   "metadata": {},
   "outputs": [],
   "source": [
    "f = open ('Pune.txt', encoding = 'utf -8')"
   ]
  },
  {
   "cell_type": "code",
   "execution_count": 45,
   "id": "c4b038c2-5376-4ae9-9fc1-fea6540175ef",
   "metadata": {},
   "outputs": [],
   "source": [
    "data = f.read()"
   ]
  },
  {
   "cell_type": "code",
   "execution_count": 46,
   "id": "39794ef6-3078-4f4b-9a62-b51d0a5c527a",
   "metadata": {},
   "outputs": [
    {
     "data": {
      "text/plain": [
       "'Pune (/ˈpuːnə/ POO-nə, Marathi: [ˈpuɳe] ⓘ), previously spelled in English as Poona (the official name until 1978),[15][16] is a city in Maharashtra state in the Deccan plateau in Western India. It is the administrative headquarters of the Pune district, and of Pune division. According to the 2011 Census of India, Pune is the ninth-most populous city in India with a population of 3.1 million residents within the city limits, and has a population of 7.2 million residents in the metropolitan region, making it the eight-most populous metropolitan area in India.[17] The city of Pune is part of Pune Metropolitan Region.[18] Pune is one of the largest IT hubs in India.[19][20] It is also one of the most important automobile and manufacturing hubs of India. Pune is often referred to as \"Oxford of the East\" because of its highly regarded educational institutions.[21][22][23] It has been ranked \"the most liveable city in India\" several times.'"
      ]
     },
     "execution_count": 46,
     "metadata": {},
     "output_type": "execute_result"
    }
   ],
   "source": [
    "data"
   ]
  },
  {
   "cell_type": "code",
   "execution_count": 47,
   "id": "1d117eb7-6bd7-47c6-af58-e1ff7b803ef7",
   "metadata": {},
   "outputs": [],
   "source": [
    "words = data.split()"
   ]
  },
  {
   "cell_type": "code",
   "execution_count": 48,
   "id": "e377baab-c5ec-4856-a96e-3f08679cde0d",
   "metadata": {},
   "outputs": [
    {
     "data": {
      "text/plain": [
       "['Pune',\n",
       " '(/ˈpuːnə/',\n",
       " 'POO-nə,',\n",
       " 'Marathi:',\n",
       " '[ˈpuɳe]',\n",
       " 'ⓘ),',\n",
       " 'previously',\n",
       " 'spelled',\n",
       " 'in',\n",
       " 'English',\n",
       " 'as',\n",
       " 'Poona',\n",
       " '(the',\n",
       " 'official',\n",
       " 'name',\n",
       " 'until',\n",
       " '1978),[15][16]',\n",
       " 'is',\n",
       " 'a',\n",
       " 'city',\n",
       " 'in',\n",
       " 'Maharashtra',\n",
       " 'state',\n",
       " 'in',\n",
       " 'the',\n",
       " 'Deccan',\n",
       " 'plateau',\n",
       " 'in',\n",
       " 'Western',\n",
       " 'India.',\n",
       " 'It',\n",
       " 'is',\n",
       " 'the',\n",
       " 'administrative',\n",
       " 'headquarters',\n",
       " 'of',\n",
       " 'the',\n",
       " 'Pune',\n",
       " 'district,',\n",
       " 'and',\n",
       " 'of',\n",
       " 'Pune',\n",
       " 'division.',\n",
       " 'According',\n",
       " 'to',\n",
       " 'the',\n",
       " '2011',\n",
       " 'Census',\n",
       " 'of',\n",
       " 'India,',\n",
       " 'Pune',\n",
       " 'is',\n",
       " 'the',\n",
       " 'ninth-most',\n",
       " 'populous',\n",
       " 'city',\n",
       " 'in',\n",
       " 'India',\n",
       " 'with',\n",
       " 'a',\n",
       " 'population',\n",
       " 'of',\n",
       " '3.1',\n",
       " 'million',\n",
       " 'residents',\n",
       " 'within',\n",
       " 'the',\n",
       " 'city',\n",
       " 'limits,',\n",
       " 'and',\n",
       " 'has',\n",
       " 'a',\n",
       " 'population',\n",
       " 'of',\n",
       " '7.2',\n",
       " 'million',\n",
       " 'residents',\n",
       " 'in',\n",
       " 'the',\n",
       " 'metropolitan',\n",
       " 'region,',\n",
       " 'making',\n",
       " 'it',\n",
       " 'the',\n",
       " 'eight-most',\n",
       " 'populous',\n",
       " 'metropolitan',\n",
       " 'area',\n",
       " 'in',\n",
       " 'India.[17]',\n",
       " 'The',\n",
       " 'city',\n",
       " 'of',\n",
       " 'Pune',\n",
       " 'is',\n",
       " 'part',\n",
       " 'of',\n",
       " 'Pune',\n",
       " 'Metropolitan',\n",
       " 'Region.[18]',\n",
       " 'Pune',\n",
       " 'is',\n",
       " 'one',\n",
       " 'of',\n",
       " 'the',\n",
       " 'largest',\n",
       " 'IT',\n",
       " 'hubs',\n",
       " 'in',\n",
       " 'India.[19][20]',\n",
       " 'It',\n",
       " 'is',\n",
       " 'also',\n",
       " 'one',\n",
       " 'of',\n",
       " 'the',\n",
       " 'most',\n",
       " 'important',\n",
       " 'automobile',\n",
       " 'and',\n",
       " 'manufacturing',\n",
       " 'hubs',\n",
       " 'of',\n",
       " 'India.',\n",
       " 'Pune',\n",
       " 'is',\n",
       " 'often',\n",
       " 'referred',\n",
       " 'to',\n",
       " 'as',\n",
       " '\"Oxford',\n",
       " 'of',\n",
       " 'the',\n",
       " 'East\"',\n",
       " 'because',\n",
       " 'of',\n",
       " 'its',\n",
       " 'highly',\n",
       " 'regarded',\n",
       " 'educational',\n",
       " 'institutions.[21][22][23]',\n",
       " 'It',\n",
       " 'has',\n",
       " 'been',\n",
       " 'ranked',\n",
       " '\"the',\n",
       " 'most',\n",
       " 'liveable',\n",
       " 'city',\n",
       " 'in',\n",
       " 'India\"',\n",
       " 'several',\n",
       " 'times.']"
      ]
     },
     "execution_count": 48,
     "metadata": {},
     "output_type": "execute_result"
    }
   ],
   "source": [
    "words"
   ]
  },
  {
   "cell_type": "code",
   "execution_count": 49,
   "id": "555932ed-be95-4b0a-ba07-516fe4c4895b",
   "metadata": {},
   "outputs": [
    {
     "data": {
      "text/plain": [
       "12"
      ]
     },
     "execution_count": 49,
     "metadata": {},
     "output_type": "execute_result"
    }
   ],
   "source": [
    "words.count('the') + words.count('The')"
   ]
  },
  {
   "cell_type": "markdown",
   "id": "3d4ec936-b6f3-4cb0-828d-4f288acad447",
   "metadata": {},
   "source": [
    "##### Read the file using 'with' statement"
   ]
  },
  {
   "cell_type": "code",
   "execution_count": 1,
   "id": "2556f525-1b63-4fc8-a705-f5edca1758e5",
   "metadata": {},
   "outputs": [
    {
     "name": "stdout",
     "output_type": "stream",
     "text": [
      "Hello friends!\n",
      "How are you?\n",
      "Welcome to the exciting world of Python Programing.\n",
      "\n"
     ]
    }
   ],
   "source": [
    "with open('Test.txt') as f:\n",
    "    print (f.read())"
   ]
  },
  {
   "cell_type": "markdown",
   "id": "a46e278a-7b3d-48d3-8bdc-5a0e85d8cc27",
   "metadata": {},
   "source": [
    "#### Open and read the file"
   ]
  },
  {
   "cell_type": "code",
   "execution_count": 9,
   "id": "fae75da9-d1e8-49b4-b833-c46da85942b4",
   "metadata": {},
   "outputs": [],
   "source": [
    "f = open ('my data.txt', 'w')"
   ]
  },
  {
   "cell_type": "code",
   "execution_count": 3,
   "id": "653d7a5f-a9c3-48a9-a4a7-9d6cde76e6dd",
   "metadata": {},
   "outputs": [
    {
     "data": {
      "text/plain": [
       "<_io.TextIOWrapper name='my data.txt' mode='w' encoding='cp1252'>"
      ]
     },
     "execution_count": 3,
     "metadata": {},
     "output_type": "execute_result"
    }
   ],
   "source": [
    "f"
   ]
  },
  {
   "cell_type": "code",
   "execution_count": 4,
   "id": "ec4e688c-44b8-4fc4-a0c1-48606ac8e086",
   "metadata": {},
   "outputs": [
    {
     "data": {
      "text/plain": [
       "True"
      ]
     },
     "execution_count": 4,
     "metadata": {},
     "output_type": "execute_result"
    }
   ],
   "source": [
    "f.writable()"
   ]
  },
  {
   "cell_type": "code",
   "execution_count": 3,
   "id": "ccca2b77-320b-408a-ad05-503a943b16c6",
   "metadata": {},
   "outputs": [
    {
     "ename": "NameError",
     "evalue": "name 'f' is not defined",
     "output_type": "error",
     "traceback": [
      "\u001b[1;31m---------------------------------------------------------------------------\u001b[0m",
      "\u001b[1;31mNameError\u001b[0m                                 Traceback (most recent call last)",
      "Cell \u001b[1;32mIn[3], line 1\u001b[0m\n\u001b[1;32m----> 1\u001b[0m f\u001b[38;5;241m.\u001b[39mwrite(\u001b[38;5;124m'\u001b[39m\u001b[38;5;124mhello world\u001b[39m\u001b[38;5;130;01m\\n\u001b[39;00m\u001b[38;5;124m'\u001b[39m)\n",
      "\u001b[1;31mNameError\u001b[0m: name 'f' is not defined"
     ]
    }
   ],
   "source": [
    "f.write('hello world\\n')"
   ]
  },
  {
   "cell_type": "code",
   "execution_count": 4,
   "id": "e578733e-20de-4ff2-b4c7-9fa7f606de62",
   "metadata": {},
   "outputs": [],
   "source": [
    "f = open ('my data.txt', 'w')"
   ]
  },
  {
   "cell_type": "code",
   "execution_count": 5,
   "id": "8582e050-9974-4655-a618-7c54f531263d",
   "metadata": {},
   "outputs": [
    {
     "data": {
      "text/plain": [
       "<_io.TextIOWrapper name='my data.txt' mode='w' encoding='cp1252'>"
      ]
     },
     "execution_count": 5,
     "metadata": {},
     "output_type": "execute_result"
    }
   ],
   "source": [
    "f"
   ]
  },
  {
   "cell_type": "code",
   "execution_count": 6,
   "id": "a1c8cafa-f32b-4bdc-813b-8ef475850466",
   "metadata": {},
   "outputs": [
    {
     "data": {
      "text/plain": [
       "True"
      ]
     },
     "execution_count": 6,
     "metadata": {},
     "output_type": "execute_result"
    }
   ],
   "source": [
    "f.writable()"
   ]
  },
  {
   "cell_type": "code",
   "execution_count": 7,
   "id": "9d19c70c-f88a-433f-b076-26614768e56a",
   "metadata": {},
   "outputs": [
    {
     "data": {
      "text/plain": [
       "12"
      ]
     },
     "execution_count": 7,
     "metadata": {},
     "output_type": "execute_result"
    }
   ],
   "source": [
    "f.write('hello world\\n')"
   ]
  },
  {
   "cell_type": "code",
   "execution_count": 8,
   "id": "3f873ae5-bdae-4c9d-a044-f94780ba2034",
   "metadata": {},
   "outputs": [],
   "source": [
    "f.close()"
   ]
  },
  {
   "cell_type": "code",
   "execution_count": 9,
   "id": "cf59b8ab-8e65-456d-8d84-2bd68ded8ac8",
   "metadata": {},
   "outputs": [],
   "source": [
    "with open('my data.txt','w') as f:\n",
    "    f.write('Hello world\\n')\n",
    "    f.write('This is my second line!\\n')\n",
    "    f.write('Now close the file.')"
   ]
  },
  {
   "cell_type": "code",
   "execution_count": 10,
   "id": "4abe3763-3973-4854-a53d-c32e4bf5c5ac",
   "metadata": {},
   "outputs": [],
   "source": [
    "f = open('my data.txt')"
   ]
  },
  {
   "cell_type": "code",
   "execution_count": 11,
   "id": "a3f9b11a-e047-4a87-883b-39009522a562",
   "metadata": {},
   "outputs": [
    {
     "name": "stdout",
     "output_type": "stream",
     "text": [
      "Hello world\n",
      "This is my second line!\n",
      "Now close the file.\n"
     ]
    }
   ],
   "source": [
    "print(f.read())"
   ]
  },
  {
   "cell_type": "code",
   "execution_count": 13,
   "id": "53267e19-bf39-4623-81e4-0b5cfda1d9a3",
   "metadata": {},
   "outputs": [
    {
     "ename": "FileExistsError",
     "evalue": "[Errno 17] File exists: 'my data.txt'",
     "output_type": "error",
     "traceback": [
      "\u001b[1;31m---------------------------------------------------------------------------\u001b[0m",
      "\u001b[1;31mFileExistsError\u001b[0m                           Traceback (most recent call last)",
      "Cell \u001b[1;32mIn[13], line 2\u001b[0m\n\u001b[0;32m      1\u001b[0m \u001b[38;5;66;03m# x- exclusive creation, file created only if it doesn't exist\u001b[39;00m\n\u001b[1;32m----> 2\u001b[0m f \u001b[38;5;241m=\u001b[39m \u001b[38;5;28mopen\u001b[39m(\u001b[38;5;124m'\u001b[39m\u001b[38;5;124mmy data.txt\u001b[39m\u001b[38;5;124m'\u001b[39m,\u001b[38;5;124m'\u001b[39m\u001b[38;5;124mx\u001b[39m\u001b[38;5;124m'\u001b[39m)\n",
      "File \u001b[1;32m~\\Anaconda\\Lib\\site-packages\\IPython\\core\\interactiveshell.py:310\u001b[0m, in \u001b[0;36m_modified_open\u001b[1;34m(file, *args, **kwargs)\u001b[0m\n\u001b[0;32m    303\u001b[0m \u001b[38;5;28;01mif\u001b[39;00m file \u001b[38;5;129;01min\u001b[39;00m {\u001b[38;5;241m0\u001b[39m, \u001b[38;5;241m1\u001b[39m, \u001b[38;5;241m2\u001b[39m}:\n\u001b[0;32m    304\u001b[0m     \u001b[38;5;28;01mraise\u001b[39;00m \u001b[38;5;167;01mValueError\u001b[39;00m(\n\u001b[0;32m    305\u001b[0m         \u001b[38;5;124mf\u001b[39m\u001b[38;5;124m\"\u001b[39m\u001b[38;5;124mIPython won\u001b[39m\u001b[38;5;124m'\u001b[39m\u001b[38;5;124mt let you open fd=\u001b[39m\u001b[38;5;132;01m{\u001b[39;00mfile\u001b[38;5;132;01m}\u001b[39;00m\u001b[38;5;124m by default \u001b[39m\u001b[38;5;124m\"\u001b[39m\n\u001b[0;32m    306\u001b[0m         \u001b[38;5;124m\"\u001b[39m\u001b[38;5;124mas it is likely to crash IPython. If you know what you are doing, \u001b[39m\u001b[38;5;124m\"\u001b[39m\n\u001b[0;32m    307\u001b[0m         \u001b[38;5;124m\"\u001b[39m\u001b[38;5;124myou can use builtins\u001b[39m\u001b[38;5;124m'\u001b[39m\u001b[38;5;124m open.\u001b[39m\u001b[38;5;124m\"\u001b[39m\n\u001b[0;32m    308\u001b[0m     )\n\u001b[1;32m--> 310\u001b[0m \u001b[38;5;28;01mreturn\u001b[39;00m io_open(file, \u001b[38;5;241m*\u001b[39margs, \u001b[38;5;241m*\u001b[39m\u001b[38;5;241m*\u001b[39mkwargs)\n",
      "\u001b[1;31mFileExistsError\u001b[0m: [Errno 17] File exists: 'my data.txt'"
     ]
    }
   ],
   "source": [
    "# x- exclusive creation, file created only if it doesn't exist\n",
    "f = open('my data.txt','x')"
   ]
  },
  {
   "cell_type": "code",
   "execution_count": 14,
   "id": "729f92b8-7de5-4365-bdcb-87d3ed0fca30",
   "metadata": {},
   "outputs": [],
   "source": [
    "# Append mode\n",
    "f = open ('my data.txt', 'a')"
   ]
  },
  {
   "cell_type": "code",
   "execution_count": 15,
   "id": "913adfd1-12e3-4b92-8a64-b8a5a0da9720",
   "metadata": {},
   "outputs": [],
   "source": [
    "with open('my data.txt' ,'a') as f:\n",
    "    f.write('New data added\\n')\n",
    "    f.write('The final statement!\\n')"
   ]
  },
  {
   "cell_type": "code",
   "execution_count": 16,
   "id": "e4a05a7d-20f8-42ba-a9b3-f626cb01eed8",
   "metadata": {},
   "outputs": [
    {
     "name": "stdout",
     "output_type": "stream",
     "text": [
      "Hello world\n",
      "This is my second line!\n",
      "Now close the file.New data added\n",
      "The final statement!\n",
      "\n"
     ]
    }
   ],
   "source": [
    "f = open('my data.txt')\n",
    "print (f.read())"
   ]
  },
  {
   "cell_type": "code",
   "execution_count": null,
   "id": "5ba1d86b-61b7-4ef3-9d53-7739523e1f04",
   "metadata": {},
   "outputs": [],
   "source": []
  }
 ],
 "metadata": {
  "kernelspec": {
   "display_name": "Python 3 (ipykernel)",
   "language": "python",
   "name": "python3"
  },
  "language_info": {
   "codemirror_mode": {
    "name": "ipython",
    "version": 3
   },
   "file_extension": ".py",
   "mimetype": "text/x-python",
   "name": "python",
   "nbconvert_exporter": "python",
   "pygments_lexer": "ipython3",
   "version": "3.11.7"
  }
 },
 "nbformat": 4,
 "nbformat_minor": 5
}
