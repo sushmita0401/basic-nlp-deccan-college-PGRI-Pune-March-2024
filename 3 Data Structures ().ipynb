{
 "cells": [
  {
   "cell_type": "markdown",
   "id": "90b1b748-2a9f-45d7-9018-c6e8dd42d0c0",
   "metadata": {},
   "source": [
    "### List"
   ]
  },
  {
   "cell_type": "code",
   "execution_count": 5,
   "id": "86f376bb-d2de-4532-b9ac-1102441cab13",
   "metadata": {},
   "outputs": [],
   "source": [
    "num =  [14, 57, 45 , 44, 544,11]\n"
   ]
  },
  {
   "cell_type": "code",
   "execution_count": 4,
   "id": "250964d9-4c0f-47c9-8ddc-046398d04155",
   "metadata": {},
   "outputs": [
    {
     "data": {
      "text/plain": [
       "list"
      ]
     },
     "execution_count": 4,
     "metadata": {},
     "output_type": "execute_result"
    }
   ],
   "source": [
    "type (num)"
   ]
  },
  {
   "cell_type": "code",
   "execution_count": 6,
   "id": "308fdf4f-3950-4582-a6b6-1c0c3b58698b",
   "metadata": {},
   "outputs": [],
   "source": [
    "x = [56, 77, 'Tuks', 89, 99]"
   ]
  },
  {
   "cell_type": "code",
   "execution_count": 7,
   "id": "dea8dc38-c4e4-4460-b46c-9c6c4721a566",
   "metadata": {},
   "outputs": [
    {
     "data": {
      "text/plain": [
       "list"
      ]
     },
     "execution_count": 7,
     "metadata": {},
     "output_type": "execute_result"
    }
   ],
   "source": [
    "type(num)"
   ]
  },
  {
   "cell_type": "code",
   "execution_count": 8,
   "id": "2ce6846e-c095-44f8-9aa7-32a694a7ac1c",
   "metadata": {},
   "outputs": [],
   "source": [
    "langs = ['Eng','Kan', 'Mar','Tam', 'Ben', 'Mal']"
   ]
  },
  {
   "cell_type": "code",
   "execution_count": 9,
   "id": "1da7fe35-a80c-41e4-b978-b3b9758db7c0",
   "metadata": {},
   "outputs": [
    {
     "data": {
      "text/plain": [
       "list"
      ]
     },
     "execution_count": 9,
     "metadata": {},
     "output_type": "execute_result"
    }
   ],
   "source": [
    "type(num)"
   ]
  },
  {
   "cell_type": "markdown",
   "id": "2a537bd5-b4a5-4638-8e40-d3054d8eb986",
   "metadata": {},
   "source": [
    "##### Access the element form the list"
   ]
  },
  {
   "cell_type": "code",
   "execution_count": 10,
   "id": "43b6ab7c-b0d8-448c-bf38-92d9b8f727c4",
   "metadata": {},
   "outputs": [
    {
     "data": {
      "text/plain": [
       "14"
      ]
     },
     "execution_count": 10,
     "metadata": {},
     "output_type": "execute_result"
    }
   ],
   "source": [
    "num[0]"
   ]
  },
  {
   "cell_type": "code",
   "execution_count": 11,
   "id": "a4b9f39b-d0d1-4eda-862d-17f8cde6aaa9",
   "metadata": {},
   "outputs": [
    {
     "data": {
      "text/plain": [
       "44"
      ]
     },
     "execution_count": 11,
     "metadata": {},
     "output_type": "execute_result"
    }
   ],
   "source": [
    "num[3]"
   ]
  },
  {
   "cell_type": "code",
   "execution_count": 13,
   "id": "5198c6eb-d193-49ad-9335-8a3284bb8367",
   "metadata": {},
   "outputs": [
    {
     "data": {
      "text/plain": [
       "[14, 57, 45, 114, 544, 11]"
      ]
     },
     "execution_count": 13,
     "metadata": {},
     "output_type": "execute_result"
    }
   ],
   "source": [
    "num[3]= 114\n",
    "num\n"
   ]
  },
  {
   "cell_type": "markdown",
   "id": "f2da76b6-d4f2-436d-9bea-832e60088d4c",
   "metadata": {},
   "source": [
    "#### Negative indexing"
   ]
  },
  {
   "cell_type": "code",
   "execution_count": 14,
   "id": "902e03ee-b3ea-48d3-bbf2-b950feeb09ae",
   "metadata": {},
   "outputs": [
    {
     "data": {
      "text/plain": [
       "11"
      ]
     },
     "execution_count": 14,
     "metadata": {},
     "output_type": "execute_result"
    }
   ],
   "source": [
    "num[-1]"
   ]
  },
  {
   "cell_type": "code",
   "execution_count": 15,
   "id": "b7e8f0d4-b42a-4ee3-83a8-fe55fec00c6f",
   "metadata": {},
   "outputs": [
    {
     "data": {
      "text/plain": [
       "45"
      ]
     },
     "execution_count": 15,
     "metadata": {},
     "output_type": "execute_result"
    }
   ],
   "source": [
    "num[-4]"
   ]
  },
  {
   "cell_type": "code",
   "execution_count": 16,
   "id": "880bb4db-4eb0-4a64-bf84-3e30e7d6d131",
   "metadata": {},
   "outputs": [
    {
     "data": {
      "text/plain": [
       "45"
      ]
     },
     "execution_count": 16,
     "metadata": {},
     "output_type": "execute_result"
    }
   ],
   "source": [
    "num[2]"
   ]
  },
  {
   "cell_type": "markdown",
   "id": "84f22ec6-e907-4e94-8f1b-a7dacc978fe2",
   "metadata": {},
   "source": [
    "##### Slicing a list"
   ]
  },
  {
   "cell_type": "code",
   "execution_count": 17,
   "id": "8c5fff94-79f6-46fe-a6bd-3454d61af114",
   "metadata": {},
   "outputs": [
    {
     "data": {
      "text/plain": [
       "[14, 57, 45, 114, 544, 11]"
      ]
     },
     "execution_count": 17,
     "metadata": {},
     "output_type": "execute_result"
    }
   ],
   "source": [
    "num"
   ]
  },
  {
   "cell_type": "code",
   "execution_count": 18,
   "id": "adbd3581-1fa2-48e1-b997-8446a57cbe52",
   "metadata": {},
   "outputs": [
    {
     "data": {
      "text/plain": [
       "[57, 45, 114]"
      ]
     },
     "execution_count": 18,
     "metadata": {},
     "output_type": "execute_result"
    }
   ],
   "source": [
    "y = num[1:4]\n",
    "y"
   ]
  },
  {
   "cell_type": "code",
   "execution_count": 19,
   "id": "57985f0e-91ed-4197-90c2-a0489bea340d",
   "metadata": {},
   "outputs": [
    {
     "data": {
      "text/plain": [
       "['Kan', 'Mar', 'Tam', 'Ben', 'Mal']"
      ]
     },
     "execution_count": 19,
     "metadata": {},
     "output_type": "execute_result"
    }
   ],
   "source": [
    "langs[1:6]"
   ]
  },
  {
   "cell_type": "code",
   "execution_count": 20,
   "id": "b139a534-64c0-4504-a273-4de4b23bd413",
   "metadata": {},
   "outputs": [
    {
     "data": {
      "text/plain": [
       "[57, 45, 114, 544, 11]"
      ]
     },
     "execution_count": 20,
     "metadata": {},
     "output_type": "execute_result"
    }
   ],
   "source": [
    "num[1:]"
   ]
  },
  {
   "cell_type": "code",
   "execution_count": 21,
   "id": "49fc647e-0827-4c7f-87ae-746ceeb37928",
   "metadata": {},
   "outputs": [
    {
     "data": {
      "text/plain": [
       "[14, 57, 45, 114]"
      ]
     },
     "execution_count": 21,
     "metadata": {},
     "output_type": "execute_result"
    }
   ],
   "source": [
    "num[:4]"
   ]
  },
  {
   "cell_type": "code",
   "execution_count": 22,
   "id": "f41e38f2-de63-439a-8647-ebc12a6b7ba6",
   "metadata": {},
   "outputs": [
    {
     "data": {
      "text/plain": [
       "[14, 57, 45, 114, 544, 11]"
      ]
     },
     "execution_count": 22,
     "metadata": {},
     "output_type": "execute_result"
    }
   ],
   "source": [
    "num[:]"
   ]
  },
  {
   "cell_type": "code",
   "execution_count": 23,
   "id": "5e04ebba-23ba-4a6d-8cbd-6f5cf541a877",
   "metadata": {},
   "outputs": [
    {
     "data": {
      "text/plain": [
       "[45, 114, 544]"
      ]
     },
     "execution_count": 23,
     "metadata": {},
     "output_type": "execute_result"
    }
   ],
   "source": [
    "num[2:5]"
   ]
  },
  {
   "cell_type": "code",
   "execution_count": 24,
   "id": "22451d8f-0b77-4087-843a-9d7586c8e50a",
   "metadata": {},
   "outputs": [
    {
     "data": {
      "text/plain": [
       "[14, 57, 87, 77, 54, 11]"
      ]
     },
     "execution_count": 24,
     "metadata": {},
     "output_type": "execute_result"
    }
   ],
   "source": [
    "num[2:5]=[87,77,54]\n",
    "num"
   ]
  },
  {
   "cell_type": "markdown",
   "id": "2525dea4-b433-4d03-b67f-f7aca39d5599",
   "metadata": {},
   "source": [
    "##### in and not in operator"
   ]
  },
  {
   "cell_type": "markdown",
   "id": "cc3fbe2f-ace4-4cdb-8eae-5a3ef6291ca4",
   "metadata": {},
   "source": [
    "##### num"
   ]
  },
  {
   "cell_type": "code",
   "execution_count": 26,
   "id": "fec221d6-d664-434b-991e-bd0a96c28cb1",
   "metadata": {},
   "outputs": [
    {
     "data": {
      "text/plain": [
       "False"
      ]
     },
     "execution_count": 26,
     "metadata": {},
     "output_type": "execute_result"
    }
   ],
   "source": [
    "46 in num"
   ]
  },
  {
   "cell_type": "code",
   "execution_count": 28,
   "id": "5fe44151-9e90-4302-97b9-ccf129cc643f",
   "metadata": {},
   "outputs": [
    {
     "data": {
      "text/plain": [
       "False"
      ]
     },
     "execution_count": 28,
     "metadata": {},
     "output_type": "execute_result"
    }
   ],
   "source": [
    "'fur'  in langs"
   ]
  },
  {
   "cell_type": "code",
   "execution_count": 29,
   "id": "2094e678-fc76-47d2-9538-07b32cc16834",
   "metadata": {},
   "outputs": [
    {
     "data": {
      "text/plain": [
       "True"
      ]
     },
     "execution_count": 29,
     "metadata": {},
     "output_type": "execute_result"
    }
   ],
   "source": [
    "'Ben'in langs"
   ]
  },
  {
   "cell_type": "code",
   "execution_count": 30,
   "id": "bccbd185-82c4-4f5f-bdd6-2c3d68819e94",
   "metadata": {},
   "outputs": [
    {
     "data": {
      "text/plain": [
       "True"
      ]
     },
     "execution_count": 30,
     "metadata": {},
     "output_type": "execute_result"
    }
   ],
   "source": [
    "59 not in num"
   ]
  },
  {
   "cell_type": "code",
   "execution_count": 31,
   "id": "15007c53-c6b8-411d-854d-ca1853ebcf7e",
   "metadata": {},
   "outputs": [
    {
     "data": {
      "text/plain": [
       "True"
      ]
     },
     "execution_count": 31,
     "metadata": {},
     "output_type": "execute_result"
    }
   ],
   "source": [
    "77 in num"
   ]
  },
  {
   "cell_type": "markdown",
   "id": "2ef88080-ed80-4b0c-86ab-0603e5d3e486",
   "metadata": {},
   "source": [
    "##### Delete the element"
   ]
  },
  {
   "cell_type": "code",
   "execution_count": 32,
   "id": "513ac3e2-dcc2-4e13-bbee-0b67ba3abea5",
   "metadata": {},
   "outputs": [
    {
     "data": {
      "text/plain": [
       "[14, 57, 87, 77, 54, 11]"
      ]
     },
     "execution_count": 32,
     "metadata": {},
     "output_type": "execute_result"
    }
   ],
   "source": [
    "num"
   ]
  },
  {
   "cell_type": "code",
   "execution_count": 40,
   "id": "0539295f-c983-4ab0-90bf-563a12db996f",
   "metadata": {},
   "outputs": [],
   "source": [
    "del num[2]"
   ]
  },
  {
   "cell_type": "code",
   "execution_count": 41,
   "id": "1126b99f-9e8d-4c16-bdd8-0d58a2d46aa6",
   "metadata": {},
   "outputs": [
    {
     "data": {
      "text/plain": [
       "[14, 57]"
      ]
     },
     "execution_count": 41,
     "metadata": {},
     "output_type": "execute_result"
    }
   ],
   "source": [
    "num"
   ]
  },
  {
   "cell_type": "markdown",
   "id": "0caceb51-8956-4eb7-86a0-3b31a49ee6bb",
   "metadata": {},
   "source": [
    "#### Aritmetic operations"
   ]
  },
  {
   "cell_type": "code",
   "execution_count": 42,
   "id": "db667796-8226-457d-afde-bccf3fa1cbc1",
   "metadata": {},
   "outputs": [
    {
     "data": {
      "text/plain": [
       "[14, 57]"
      ]
     },
     "execution_count": 42,
     "metadata": {},
     "output_type": "execute_result"
    }
   ],
   "source": [
    "num"
   ]
  },
  {
   "cell_type": "code",
   "execution_count": 43,
   "id": "9ccdc8c1-7317-40d6-9b00-183102186416",
   "metadata": {},
   "outputs": [
    {
     "data": {
      "text/plain": [
       "[14, 57, 14, 57]"
      ]
     },
     "execution_count": 43,
     "metadata": {},
     "output_type": "execute_result"
    }
   ],
   "source": [
    "num*2"
   ]
  },
  {
   "cell_type": "code",
   "execution_count": 44,
   "id": "acdf002f-0d02-4b72-9ea0-8d492902aef5",
   "metadata": {},
   "outputs": [
    {
     "data": {
      "text/plain": [
       "[14, 57, 42, 56]"
      ]
     },
     "execution_count": 44,
     "metadata": {},
     "output_type": "execute_result"
    }
   ],
   "source": [
    "num + [42 ,56]"
   ]
  },
  {
   "cell_type": "code",
   "execution_count": 45,
   "id": "5d1b918a-4dde-4380-9f2f-722b84cf0a89",
   "metadata": {},
   "outputs": [],
   "source": [
    "num +=[42,56]"
   ]
  },
  {
   "cell_type": "code",
   "execution_count": 46,
   "id": "204e20d1-fa7a-4e6a-b8f0-38a284db44b0",
   "metadata": {},
   "outputs": [
    {
     "data": {
      "text/plain": [
       "[14, 57, 42, 56]"
      ]
     },
     "execution_count": 46,
     "metadata": {},
     "output_type": "execute_result"
    }
   ],
   "source": [
    "num"
   ]
  },
  {
   "cell_type": "markdown",
   "id": "f422746a-91ad-4722-8dc5-712958fd581d",
   "metadata": {},
   "source": [
    "##### Iterating the list"
   ]
  },
  {
   "cell_type": "code",
   "execution_count": 47,
   "id": "5e0d66cc-dd42-46a4-935c-5216c68918a4",
   "metadata": {},
   "outputs": [
    {
     "data": {
      "text/plain": [
       "[14, 57, 42, 56]"
      ]
     },
     "execution_count": 47,
     "metadata": {},
     "output_type": "execute_result"
    }
   ],
   "source": [
    "num"
   ]
  },
  {
   "cell_type": "code",
   "execution_count": 48,
   "id": "bfe5dd61-e5d8-4bbd-a101-b865711bd6b7",
   "metadata": {},
   "outputs": [
    {
     "name": "stdout",
     "output_type": "stream",
     "text": [
      "14\n",
      "57\n",
      "42\n",
      "56\n"
     ]
    }
   ],
   "source": [
    "for n in num:\n",
    "    print(n)"
   ]
  },
  {
   "cell_type": "code",
   "execution_count": 49,
   "id": "c9b75bfa-2298-4407-aaec-8e6c64e470d9",
   "metadata": {},
   "outputs": [
    {
     "name": "stdout",
     "output_type": "stream",
     "text": [
      "7.0\n",
      "28.5\n",
      "21.0\n",
      "28.0\n"
     ]
    }
   ],
   "source": [
    "for n in num:\n",
    "    print(n/2)"
   ]
  },
  {
   "cell_type": "code",
   "execution_count": 56,
   "id": "8e3e4821-0b0a-4728-8bb2-94de087bf32c",
   "metadata": {},
   "outputs": [
    {
     "name": "stdout",
     "output_type": "stream",
     "text": [
      "E\n"
     ]
    }
   ],
   "source": [
    "for lang in langs:\n",
    "    print(lang)"
   ]
  },
  {
   "cell_type": "code",
   "execution_count": 59,
   "id": "2a558e8a-df6a-4fa9-a55a-508ffa854d35",
   "metadata": {},
   "outputs": [],
   "source": [
    "for lang in langs:\n",
    "    if lang.startswith('B'):\n",
    "        print(lang)"
   ]
  },
  {
   "cell_type": "markdown",
   "id": "520277e3-c110-467e-b5fc-0435d1f9488c",
   "metadata": {},
   "source": [
    "#### List Comprehension"
   ]
  },
  {
   "cell_type": "code",
   "execution_count": 60,
   "id": "e5ef219b-113b-40b6-94e8-8722bbb0834a",
   "metadata": {},
   "outputs": [
    {
     "data": {
      "text/plain": [
       "[14, 57, 42, 56]"
      ]
     },
     "execution_count": 60,
     "metadata": {},
     "output_type": "execute_result"
    }
   ],
   "source": [
    "num"
   ]
  },
  {
   "cell_type": "code",
   "execution_count": 61,
   "id": "8473e00c-21f3-468d-bc67-5d213db0ecb8",
   "metadata": {},
   "outputs": [],
   "source": [
    "new =[x/2 for x in num]"
   ]
  },
  {
   "cell_type": "code",
   "execution_count": 62,
   "id": "f618cbac-de7d-4289-809c-631f30dcddab",
   "metadata": {},
   "outputs": [
    {
     "data": {
      "text/plain": [
       "[7.0, 28.5, 21.0, 28.0]"
      ]
     },
     "execution_count": 62,
     "metadata": {},
     "output_type": "execute_result"
    }
   ],
   "source": [
    "new"
   ]
  },
  {
   "cell_type": "code",
   "execution_count": 63,
   "id": "9baccfd6-adcb-4224-921a-8b2771de7a6b",
   "metadata": {},
   "outputs": [],
   "source": [
    "new = [x**2 for x in num]"
   ]
  },
  {
   "cell_type": "code",
   "execution_count": 64,
   "id": "74636dad-710d-4a17-bc77-7076b34c51d7",
   "metadata": {},
   "outputs": [
    {
     "data": {
      "text/plain": [
       "[196, 3249, 1764, 3136]"
      ]
     },
     "execution_count": 64,
     "metadata": {},
     "output_type": "execute_result"
    }
   ],
   "source": [
    "new"
   ]
  },
  {
   "cell_type": "code",
   "execution_count": 65,
   "id": "18653c0d-5103-427b-91c8-ea28e7268655",
   "metadata": {},
   "outputs": [],
   "source": [
    "new = [x for x in num if x%2 == 0]"
   ]
  },
  {
   "cell_type": "code",
   "execution_count": 66,
   "id": "24b0fa98-0d09-42d9-b64e-7aa0c7bfdec0",
   "metadata": {},
   "outputs": [
    {
     "data": {
      "text/plain": [
       "[14, 42, 56]"
      ]
     },
     "execution_count": 66,
     "metadata": {},
     "output_type": "execute_result"
    }
   ],
   "source": [
    "new"
   ]
  },
  {
   "cell_type": "markdown",
   "id": "5d19eef0-8500-480e-b921-9c1155ba35eb",
   "metadata": {},
   "source": [
    "##### Empty list"
   ]
  },
  {
   "cell_type": "code",
   "execution_count": 67,
   "id": "79daa600-7299-4311-a566-562f1ce1d0fb",
   "metadata": {},
   "outputs": [],
   "source": [
    "r=[]"
   ]
  },
  {
   "cell_type": "code",
   "execution_count": 68,
   "id": "1edf9dcd-2b48-46dc-83f6-b814a0d14020",
   "metadata": {},
   "outputs": [
    {
     "data": {
      "text/plain": [
       "list"
      ]
     },
     "execution_count": 68,
     "metadata": {},
     "output_type": "execute_result"
    }
   ],
   "source": [
    "type(r)"
   ]
  },
  {
   "cell_type": "code",
   "execution_count": 69,
   "id": "e56af673-9b21-4cfa-b861-03c8a59e74ed",
   "metadata": {},
   "outputs": [
    {
     "ename": "IndexError",
     "evalue": "list index out of range",
     "output_type": "error",
     "traceback": [
      "\u001b[1;31m---------------------------------------------------------------------------\u001b[0m",
      "\u001b[1;31mIndexError\u001b[0m                                Traceback (most recent call last)",
      "Cell \u001b[1;32mIn[69], line 1\u001b[0m\n\u001b[1;32m----> 1\u001b[0m r[\u001b[38;5;241m0\u001b[39m]\n",
      "\u001b[1;31mIndexError\u001b[0m: list index out of range"
     ]
    }
   ],
   "source": [
    "r[0]"
   ]
  },
  {
   "cell_type": "code",
   "execution_count": 70,
   "id": "bea46989-b9fc-4f6a-bf3f-ed180afdbfa1",
   "metadata": {},
   "outputs": [
    {
     "data": {
      "text/plain": [
       "[56]"
      ]
     },
     "execution_count": 70,
     "metadata": {},
     "output_type": "execute_result"
    }
   ],
   "source": [
    "r +=[56]\n",
    "r"
   ]
  },
  {
   "cell_type": "code",
   "execution_count": 73,
   "id": "328d81cc-93e9-4649-8a25-8797a56590a0",
   "metadata": {},
   "outputs": [
    {
     "data": {
      "text/plain": [
       "[56, 56, 65, 67]"
      ]
     },
     "execution_count": 73,
     "metadata": {},
     "output_type": "execute_result"
    }
   ],
   "source": [
    "r +=[67]\n",
    "r"
   ]
  },
  {
   "cell_type": "code",
   "execution_count": 74,
   "id": "72bcf0a3-d032-4809-94ff-75c3972fba2b",
   "metadata": {},
   "outputs": [
    {
     "data": {
      "text/plain": [
       "[56, 56, 65, 67, 14]"
      ]
     },
     "execution_count": 74,
     "metadata": {},
     "output_type": "execute_result"
    }
   ],
   "source": [
    "r +=[14]\n",
    "r"
   ]
  },
  {
   "cell_type": "markdown",
   "id": "9bedaa2e-3f39-445f-9d80-e8545bff97f7",
   "metadata": {},
   "source": [
    "#### Functions on list"
   ]
  },
  {
   "cell_type": "code",
   "execution_count": 75,
   "id": "c97c201e-d0c9-4f16-a2e0-105e1801f2cd",
   "metadata": {},
   "outputs": [
    {
     "data": {
      "text/plain": [
       "4"
      ]
     },
     "execution_count": 75,
     "metadata": {},
     "output_type": "execute_result"
    }
   ],
   "source": [
    "len(num)"
   ]
  },
  {
   "cell_type": "code",
   "execution_count": 76,
   "id": "2cc8e485-ebb0-4eee-9e58-95aa22d88c37",
   "metadata": {},
   "outputs": [
    {
     "data": {
      "text/plain": [
       "1"
      ]
     },
     "execution_count": 76,
     "metadata": {},
     "output_type": "execute_result"
    }
   ],
   "source": [
    "len(langs)"
   ]
  },
  {
   "cell_type": "code",
   "execution_count": 77,
   "id": "5b53ffc1-b703-4715-ab89-fc7824574793",
   "metadata": {},
   "outputs": [
    {
     "data": {
      "text/plain": [
       "14"
      ]
     },
     "execution_count": 77,
     "metadata": {},
     "output_type": "execute_result"
    }
   ],
   "source": [
    "min(num)"
   ]
  },
  {
   "cell_type": "code",
   "execution_count": 78,
   "id": "3c7d10c6-01a5-42ec-a82c-77eb90cee2a0",
   "metadata": {},
   "outputs": [
    {
     "data": {
      "text/plain": [
       "57"
      ]
     },
     "execution_count": 78,
     "metadata": {},
     "output_type": "execute_result"
    }
   ],
   "source": [
    "max(num)"
   ]
  },
  {
   "cell_type": "code",
   "execution_count": 79,
   "id": "d69eeebf-8c48-4008-af4d-2c29069e5ca1",
   "metadata": {},
   "outputs": [
    {
     "data": {
      "text/plain": [
       "169"
      ]
     },
     "execution_count": 79,
     "metadata": {},
     "output_type": "execute_result"
    }
   ],
   "source": [
    "sum(num)"
   ]
  },
  {
   "cell_type": "code",
   "execution_count": 80,
   "id": "d0ba793d-65ac-48ed-b8d8-180b4e69aca9",
   "metadata": {},
   "outputs": [
    {
     "data": {
      "text/plain": [
       "[14, 42, 56, 57]"
      ]
     },
     "execution_count": 80,
     "metadata": {},
     "output_type": "execute_result"
    }
   ],
   "source": [
    "sorted(num)"
   ]
  },
  {
   "cell_type": "markdown",
   "id": "a26055e9-2b29-400c-8425-cd5622908ea4",
   "metadata": {},
   "source": [
    "##### List methods"
   ]
  },
  {
   "cell_type": "code",
   "execution_count": 86,
   "id": "95b680f6-94ea-43f0-b6e1-78f50fdda6b8",
   "metadata": {},
   "outputs": [],
   "source": [
    "num.append(55)"
   ]
  },
  {
   "cell_type": "code",
   "execution_count": 87,
   "id": "7bed97d3-2bbb-4423-96e7-36d8df51f9e9",
   "metadata": {},
   "outputs": [
    {
     "data": {
      "text/plain": [
       "[14, 57, 42, 56, 43, 43, 43, 55]"
      ]
     },
     "execution_count": 87,
     "metadata": {},
     "output_type": "execute_result"
    }
   ],
   "source": [
    "num"
   ]
  },
  {
   "cell_type": "code",
   "execution_count": 88,
   "id": "58efd56e-ae45-4847-afb1-c0c7d9d1e706",
   "metadata": {},
   "outputs": [],
   "source": [
    "num.insert(4,34)"
   ]
  },
  {
   "cell_type": "code",
   "execution_count": 89,
   "id": "e2d34efb-145d-49d2-99a4-f445d0320621",
   "metadata": {},
   "outputs": [
    {
     "data": {
      "text/plain": [
       "[14, 57, 42, 56, 34, 43, 43, 43, 55]"
      ]
     },
     "execution_count": 89,
     "metadata": {},
     "output_type": "execute_result"
    }
   ],
   "source": [
    "num"
   ]
  },
  {
   "cell_type": "code",
   "execution_count": 90,
   "id": "33249401-6686-4755-bf67-028d0e3244a2",
   "metadata": {},
   "outputs": [],
   "source": [
    "num.remove(57)"
   ]
  },
  {
   "cell_type": "code",
   "execution_count": 91,
   "id": "dbc4cc1f-6e80-43d6-80f5-1343248328c7",
   "metadata": {},
   "outputs": [
    {
     "data": {
      "text/plain": [
       "[14, 42, 56, 34, 43, 43, 43, 55]"
      ]
     },
     "execution_count": 91,
     "metadata": {},
     "output_type": "execute_result"
    }
   ],
   "source": [
    "num"
   ]
  },
  {
   "cell_type": "code",
   "execution_count": 92,
   "id": "be6eded2-b9c8-499c-a449-8fbaa65bf5bc",
   "metadata": {},
   "outputs": [
    {
     "data": {
      "text/plain": [
       "43"
      ]
     },
     "execution_count": 92,
     "metadata": {},
     "output_type": "execute_result"
    }
   ],
   "source": [
    "num.pop(4)"
   ]
  },
  {
   "cell_type": "code",
   "execution_count": 93,
   "id": "90bbbbe2-4052-4d09-b20d-50ba54f0038e",
   "metadata": {},
   "outputs": [
    {
     "data": {
      "text/plain": [
       "[14, 42, 56, 34, 43, 43, 55]"
      ]
     },
     "execution_count": 93,
     "metadata": {},
     "output_type": "execute_result"
    }
   ],
   "source": [
    "num"
   ]
  },
  {
   "cell_type": "code",
   "execution_count": 94,
   "id": "403bb622-a68a-4cb9-beb0-fb1f71424e8b",
   "metadata": {},
   "outputs": [
    {
     "data": {
      "text/plain": [
       "2"
      ]
     },
     "execution_count": 94,
     "metadata": {},
     "output_type": "execute_result"
    }
   ],
   "source": [
    "num.index(56)"
   ]
  },
  {
   "cell_type": "code",
   "execution_count": 95,
   "id": "4517d1e3-1c43-4302-b9c7-42f5a0e114d0",
   "metadata": {},
   "outputs": [
    {
     "data": {
      "text/plain": [
       "2"
      ]
     },
     "execution_count": 95,
     "metadata": {},
     "output_type": "execute_result"
    }
   ],
   "source": [
    "num.count(43)"
   ]
  },
  {
   "cell_type": "code",
   "execution_count": 96,
   "id": "2653d686-9db5-48bd-8d26-3b9423c776ae",
   "metadata": {},
   "outputs": [],
   "source": [
    "num.reverse()"
   ]
  },
  {
   "cell_type": "code",
   "execution_count": 97,
   "id": "68faa8a9-d0f7-4ece-85cf-dd0b23ee2b92",
   "metadata": {},
   "outputs": [
    {
     "data": {
      "text/plain": [
       "[55, 43, 43, 34, 56, 42, 14]"
      ]
     },
     "execution_count": 97,
     "metadata": {},
     "output_type": "execute_result"
    }
   ],
   "source": [
    "num"
   ]
  },
  {
   "cell_type": "code",
   "execution_count": 98,
   "id": "1e9dcb07-d63a-4757-89b7-e437ff84ba95",
   "metadata": {},
   "outputs": [],
   "source": [
    "num.sort()"
   ]
  },
  {
   "cell_type": "code",
   "execution_count": 99,
   "id": "3395858c-3343-4165-99a3-17e23015c75a",
   "metadata": {},
   "outputs": [
    {
     "data": {
      "text/plain": [
       "[14, 34, 42, 43, 43, 55, 56]"
      ]
     },
     "execution_count": 99,
     "metadata": {},
     "output_type": "execute_result"
    }
   ],
   "source": [
    "num\n"
   ]
  },
  {
   "cell_type": "code",
   "execution_count": 100,
   "id": "4a854ea7-0051-4bac-8494-200f252f1468",
   "metadata": {},
   "outputs": [],
   "source": [
    "num.sort(reverse=True)"
   ]
  },
  {
   "cell_type": "code",
   "execution_count": 101,
   "id": "5e88a799-222c-4466-b9cb-6e8817017f2b",
   "metadata": {},
   "outputs": [
    {
     "data": {
      "text/plain": [
       "[56, 55, 43, 43, 42, 34, 14]"
      ]
     },
     "execution_count": 101,
     "metadata": {},
     "output_type": "execute_result"
    }
   ],
   "source": [
    "num"
   ]
  },
  {
   "cell_type": "code",
   "execution_count": 102,
   "id": "c51a7cd5-cbef-4ce8-8d11-b14db4d60d20",
   "metadata": {},
   "outputs": [],
   "source": [
    "num.clear()"
   ]
  },
  {
   "cell_type": "code",
   "execution_count": 103,
   "id": "2779fa76-3b09-4e49-8551-64a7d5d621fc",
   "metadata": {},
   "outputs": [
    {
     "data": {
      "text/plain": [
       "[]"
      ]
     },
     "execution_count": 103,
     "metadata": {},
     "output_type": "execute_result"
    }
   ],
   "source": [
    "num"
   ]
  },
  {
   "cell_type": "code",
   "execution_count": 104,
   "id": "4a757739-2e5b-4e6f-aee6-43662bd47328",
   "metadata": {},
   "outputs": [],
   "source": [
    "# Example list: x = [ 5,7,6,8,2,3,9,0,4,6]\n",
    "# Output lits : [ 5,7,6,8,2,0,3,4,6,9]\n",
    "\n",
    "# Sort only higher order of the list and print"
   ]
  },
  {
   "cell_type": "code",
   "execution_count": 105,
   "id": "8faa3c37-5d53-4210-835b-bdc3b582e267",
   "metadata": {},
   "outputs": [],
   "source": [
    "x = [5,7,6,8,2,3,9,0,4,6]"
   ]
  },
  {
   "cell_type": "code",
   "execution_count": 114,
   "id": "4776c595-9c77-427a-afd2-5102099859c6",
   "metadata": {},
   "outputs": [],
   "source": [
    "first = x[:5]\n",
    "second = x[5:]"
   ]
  },
  {
   "cell_type": "code",
   "execution_count": 115,
   "id": "2d1a6b4c-0bf6-49e8-81f1-f625ce667ee4",
   "metadata": {},
   "outputs": [
    {
     "data": {
      "text/plain": [
       "[5, 7, 6, 8, 2]"
      ]
     },
     "execution_count": 115,
     "metadata": {},
     "output_type": "execute_result"
    }
   ],
   "source": [
    "first"
   ]
  },
  {
   "cell_type": "code",
   "execution_count": 116,
   "id": "28e6a41a-da62-404d-bab0-ee3e69770012",
   "metadata": {},
   "outputs": [
    {
     "data": {
      "text/plain": [
       "[3, 9, 0, 4, 6]"
      ]
     },
     "execution_count": 116,
     "metadata": {},
     "output_type": "execute_result"
    }
   ],
   "source": [
    "second"
   ]
  },
  {
   "cell_type": "code",
   "execution_count": 118,
   "id": "cfb041a3-4f9d-4ca8-b6ff-f12da8e61490",
   "metadata": {},
   "outputs": [],
   "source": [
    "second.sort()"
   ]
  },
  {
   "cell_type": "code",
   "execution_count": 119,
   "id": "ae7b9b39-d388-4255-a907-cc90e9a0691d",
   "metadata": {},
   "outputs": [
    {
     "data": {
      "text/plain": [
       "[5, 7, 6, 8, 2, 0, 3, 4, 6, 9]"
      ]
     },
     "execution_count": 119,
     "metadata": {},
     "output_type": "execute_result"
    }
   ],
   "source": [
    "first + second"
   ]
  },
  {
   "cell_type": "markdown",
   "id": "0f5d3450-9df2-4fec-833b-c5bb83bc3159",
   "metadata": {},
   "source": [
    "#### Tuple"
   ]
  },
  {
   "cell_type": "code",
   "execution_count": 120,
   "id": "ddb57739-c2c4-432a-8230-1f998410dc66",
   "metadata": {},
   "outputs": [],
   "source": [
    "t =(56,23,18,38,51,39)"
   ]
  },
  {
   "cell_type": "code",
   "execution_count": 121,
   "id": "24e34f4a-2b79-46ff-a13c-0440b2848d18",
   "metadata": {},
   "outputs": [
    {
     "data": {
      "text/plain": [
       "tuple"
      ]
     },
     "execution_count": 121,
     "metadata": {},
     "output_type": "execute_result"
    }
   ],
   "source": [
    "type(t)"
   ]
  },
  {
   "cell_type": "code",
   "execution_count": 125,
   "id": "e2f696ab-8091-4aa8-93db-73aad13ca68c",
   "metadata": {},
   "outputs": [
    {
     "data": {
      "text/plain": [
       "38"
      ]
     },
     "execution_count": 125,
     "metadata": {},
     "output_type": "execute_result"
    }
   ],
   "source": [
    "t[3]"
   ]
  },
  {
   "cell_type": "code",
   "execution_count": 126,
   "id": "54805dbd-4bb0-4577-89b6-d2847601f207",
   "metadata": {},
   "outputs": [
    {
     "ename": "TypeError",
     "evalue": "'tuple' object does not support item assignment",
     "output_type": "error",
     "traceback": [
      "\u001b[1;31m---------------------------------------------------------------------------\u001b[0m",
      "\u001b[1;31mTypeError\u001b[0m                                 Traceback (most recent call last)",
      "Cell \u001b[1;32mIn[126], line 1\u001b[0m\n\u001b[1;32m----> 1\u001b[0m t [\u001b[38;5;241m3\u001b[39m] \u001b[38;5;241m=\u001b[39m \u001b[38;5;241m45\u001b[39m\n",
      "\u001b[1;31mTypeError\u001b[0m: 'tuple' object does not support item assignment"
     ]
    }
   ],
   "source": [
    "t [3] = 45"
   ]
  },
  {
   "cell_type": "code",
   "execution_count": 127,
   "id": "b5846f91-0d2e-40d3-8d8c-3cbcc2cff6a8",
   "metadata": {},
   "outputs": [
    {
     "data": {
      "text/plain": [
       "51"
      ]
     },
     "execution_count": 127,
     "metadata": {},
     "output_type": "execute_result"
    }
   ],
   "source": [
    "t[-2]"
   ]
  },
  {
   "cell_type": "code",
   "execution_count": 128,
   "id": "ee4148e4-f0f6-4954-9542-101d2cfca514",
   "metadata": {},
   "outputs": [
    {
     "name": "stdout",
     "output_type": "stream",
     "text": [
      "56\n",
      "23\n",
      "18\n",
      "38\n",
      "51\n",
      "39\n"
     ]
    }
   ],
   "source": [
    "for x in t:\n",
    "    print(x)"
   ]
  },
  {
   "cell_type": "markdown",
   "id": "cd6ece4b-ce78-464e-aa08-2eb22022580c",
   "metadata": {},
   "source": [
    "#### Set"
   ]
  },
  {
   "cell_type": "code",
   "execution_count": 129,
   "id": "74f684b5-1d3a-486f-b0bc-abdbe979b5c6",
   "metadata": {},
   "outputs": [],
   "source": [
    "# Collection of unique and distinct elements "
   ]
  },
  {
   "cell_type": "code",
   "execution_count": 130,
   "id": "e8e0b0f8-e227-43dc-aee5-d783872b2477",
   "metadata": {},
   "outputs": [],
   "source": [
    "s = {4,7,6,9,8,5,6,3,78,65}"
   ]
  },
  {
   "cell_type": "code",
   "execution_count": 131,
   "id": "0668348b-393c-4356-ad73-6a150b25051c",
   "metadata": {},
   "outputs": [
    {
     "data": {
      "text/plain": [
       "set"
      ]
     },
     "execution_count": 131,
     "metadata": {},
     "output_type": "execute_result"
    }
   ],
   "source": [
    "type(s)"
   ]
  },
  {
   "cell_type": "code",
   "execution_count": 132,
   "id": "ebb00bd9-7156-449b-9ad0-a611bcfb3785",
   "metadata": {},
   "outputs": [
    {
     "data": {
      "text/plain": [
       "{3, 4, 5, 6, 7, 8, 9, 65, 78}"
      ]
     },
     "execution_count": 132,
     "metadata": {},
     "output_type": "execute_result"
    }
   ],
   "source": [
    "s"
   ]
  },
  {
   "cell_type": "code",
   "execution_count": 133,
   "id": "91a1f20d-7dfb-425b-862d-b661cd959adb",
   "metadata": {},
   "outputs": [
    {
     "ename": "NameError",
     "evalue": "name 'S' is not defined",
     "output_type": "error",
     "traceback": [
      "\u001b[1;31m---------------------------------------------------------------------------\u001b[0m",
      "\u001b[1;31mNameError\u001b[0m                                 Traceback (most recent call last)",
      "Cell \u001b[1;32mIn[133], line 1\u001b[0m\n\u001b[1;32m----> 1\u001b[0m S[\u001b[38;5;241m3\u001b[39m]\n",
      "\u001b[1;31mNameError\u001b[0m: name 'S' is not defined"
     ]
    }
   ],
   "source": [
    "S[3]"
   ]
  },
  {
   "cell_type": "markdown",
   "id": "110d4779-ebc1-494d-b0b0-adcf40a48af7",
   "metadata": {},
   "source": [
    "#### Dictionary "
   ]
  },
  {
   "cell_type": "code",
   "execution_count": 134,
   "id": "93624cd0-e3ba-4cea-bbdf-98a62ea0b66c",
   "metadata": {},
   "outputs": [],
   "source": [
    "# Stores the data in the form of the key-value pairs"
   ]
  },
  {
   "cell_type": "code",
   "execution_count": 135,
   "id": "843b2c70-1cbb-4552-b2e4-0e9abf66c5f9",
   "metadata": {},
   "outputs": [],
   "source": [
    "d ={ 3:56, 7:67, 9:154, 6:120, 4:31}"
   ]
  },
  {
   "cell_type": "code",
   "execution_count": 136,
   "id": "22f38fb3-0a70-4288-9174-6b3ed57f2f57",
   "metadata": {},
   "outputs": [
    {
     "data": {
      "text/plain": [
       "dict"
      ]
     },
     "execution_count": 136,
     "metadata": {},
     "output_type": "execute_result"
    }
   ],
   "source": [
    "type(d)"
   ]
  },
  {
   "cell_type": "code",
   "execution_count": 137,
   "id": "0d8bd84b-5979-4b4f-9c2a-4e842eb6391d",
   "metadata": {},
   "outputs": [
    {
     "data": {
      "text/plain": [
       "56"
      ]
     },
     "execution_count": 137,
     "metadata": {},
     "output_type": "execute_result"
    }
   ],
   "source": [
    "d[3]"
   ]
  },
  {
   "cell_type": "code",
   "execution_count": 138,
   "id": "eee1797e-0d04-4b62-ae56-4c00a03fa463",
   "metadata": {},
   "outputs": [
    {
     "data": {
      "text/plain": [
       "154"
      ]
     },
     "execution_count": 138,
     "metadata": {},
     "output_type": "execute_result"
    }
   ],
   "source": [
    "d[9]"
   ]
  },
  {
   "cell_type": "code",
   "execution_count": 139,
   "id": "34b8e193-4eb8-474d-89a6-6eada2b0c9c8",
   "metadata": {},
   "outputs": [
    {
     "data": {
      "text/plain": [
       "{3: 56, 7: 164, 9: 154, 6: 120, 4: 31}"
      ]
     },
     "execution_count": 139,
     "metadata": {},
     "output_type": "execute_result"
    }
   ],
   "source": [
    "d[7]=164\n",
    "d"
   ]
  },
  {
   "cell_type": "code",
   "execution_count": 144,
   "id": "763ab88e-f0c0-4a71-8e29-eac3aa18d3ab",
   "metadata": {},
   "outputs": [],
   "source": [
    "d['a'] = 'apple'"
   ]
  },
  {
   "cell_type": "code",
   "execution_count": 141,
   "id": "e38debd7-8a81-49aa-8123-c1343995223e",
   "metadata": {},
   "outputs": [
    {
     "data": {
      "text/plain": [
       "{3: 56, 7: 164, 9: 154, 6: 120, 4: 31, 'a': 'apple'}"
      ]
     },
     "execution_count": 141,
     "metadata": {},
     "output_type": "execute_result"
    }
   ],
   "source": [
    "d"
   ]
  },
  {
   "cell_type": "code",
   "execution_count": null,
   "id": "d0970558-1e1b-41e7-bb2c-fbbfe776967d",
   "metadata": {},
   "outputs": [],
   "source": []
  }
 ],
 "metadata": {
  "kernelspec": {
   "display_name": "Python 3 (ipykernel)",
   "language": "python",
   "name": "python3"
  },
  "language_info": {
   "codemirror_mode": {
    "name": "ipython",
    "version": 3
   },
   "file_extension": ".py",
   "mimetype": "text/x-python",
   "name": "python",
   "nbconvert_exporter": "python",
   "pygments_lexer": "ipython3",
   "version": "3.11.7"
  }
 },
 "nbformat": 4,
 "nbformat_minor": 5
}
