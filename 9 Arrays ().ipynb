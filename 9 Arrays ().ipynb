{
 "cells": [
  {
   "cell_type": "code",
   "execution_count": 1,
   "id": "ceed7ef1-554e-44f0-a39b-c75ebdaf156b",
   "metadata": {},
   "outputs": [],
   "source": [
    "import numpy as np"
   ]
  },
  {
   "cell_type": "code",
   "execution_count": 2,
   "id": "fccbb7d6-9290-49a8-844d-c185adfaa316",
   "metadata": {},
   "outputs": [],
   "source": [
    "x = np.array([56,22,67,12,34,78,99,56])"
   ]
  },
  {
   "cell_type": "code",
   "execution_count": 3,
   "id": "49a3c5ff-f1f9-4236-a552-f0d3175d4f5d",
   "metadata": {},
   "outputs": [
    {
     "data": {
      "text/plain": [
       "array([56, 22, 67, 12, 34, 78, 99, 56])"
      ]
     },
     "execution_count": 3,
     "metadata": {},
     "output_type": "execute_result"
    }
   ],
   "source": [
    "x"
   ]
  },
  {
   "cell_type": "code",
   "execution_count": 4,
   "id": "97ffa3a2-ec5e-422a-bb17-d44a6501c9c4",
   "metadata": {},
   "outputs": [
    {
     "data": {
      "text/plain": [
       "numpy.ndarray"
      ]
     },
     "execution_count": 4,
     "metadata": {},
     "output_type": "execute_result"
    }
   ],
   "source": [
    "type(x)"
   ]
  },
  {
   "cell_type": "code",
   "execution_count": 5,
   "id": "7d7e4b1e-ec72-41f4-a5cb-5f98c23f4496",
   "metadata": {},
   "outputs": [
    {
     "data": {
      "text/plain": [
       "dtype('int32')"
      ]
     },
     "execution_count": 5,
     "metadata": {},
     "output_type": "execute_result"
    }
   ],
   "source": [
    "x.dtype"
   ]
  },
  {
   "cell_type": "code",
   "execution_count": 6,
   "id": "23326137-d2fd-44cc-8ee5-66806115a27a",
   "metadata": {},
   "outputs": [
    {
     "data": {
      "text/plain": [
       "8"
      ]
     },
     "execution_count": 6,
     "metadata": {},
     "output_type": "execute_result"
    }
   ],
   "source": [
    "x.size"
   ]
  },
  {
   "cell_type": "code",
   "execution_count": 7,
   "id": "7d312ffe-748d-4d65-a66b-1ac626ce67f3",
   "metadata": {},
   "outputs": [
    {
     "data": {
      "text/plain": [
       "12"
      ]
     },
     "execution_count": 7,
     "metadata": {},
     "output_type": "execute_result"
    }
   ],
   "source": [
    "x[3]"
   ]
  },
  {
   "cell_type": "code",
   "execution_count": 8,
   "id": "5a4fc721-8bc3-44a6-8f0c-43346527f7e3",
   "metadata": {},
   "outputs": [],
   "source": [
    "y = np.array([56,22,67,12.56,34,78,99,56])"
   ]
  },
  {
   "cell_type": "code",
   "execution_count": 9,
   "id": "22a786b2-2e1f-4d9b-a147-d93597da3b1f",
   "metadata": {},
   "outputs": [
    {
     "data": {
      "text/plain": [
       "array([56.  , 22.  , 67.  , 12.56, 34.  , 78.  , 99.  , 56.  ])"
      ]
     },
     "execution_count": 9,
     "metadata": {},
     "output_type": "execute_result"
    }
   ],
   "source": [
    "y"
   ]
  },
  {
   "cell_type": "code",
   "execution_count": 10,
   "id": "5416d4b9-b26a-40fc-a1b5-3734fb91d835",
   "metadata": {},
   "outputs": [
    {
     "data": {
      "text/plain": [
       "dtype('float64')"
      ]
     },
     "execution_count": 10,
     "metadata": {},
     "output_type": "execute_result"
    }
   ],
   "source": [
    "y.dtype"
   ]
  },
  {
   "cell_type": "code",
   "execution_count": 11,
   "id": "f7eaa430-ede9-495b-935f-5eb2067d994d",
   "metadata": {},
   "outputs": [
    {
     "data": {
      "text/plain": [
       "22.0"
      ]
     },
     "execution_count": 11,
     "metadata": {},
     "output_type": "execute_result"
    }
   ],
   "source": [
    "y[1]"
   ]
  },
  {
   "cell_type": "code",
   "execution_count": 12,
   "id": "56a416b5-585b-4ea3-a87a-b99e964d8fb5",
   "metadata": {},
   "outputs": [],
   "source": [
    "city = np.array([ 'कोलकाता' ,'पुणे' ,'केराला' ,'गुज्रत']) "
   ]
  },
  {
   "cell_type": "code",
   "execution_count": 13,
   "id": "81827ad4-862c-4143-9bd1-74fcad36e4fd",
   "metadata": {},
   "outputs": [
    {
     "data": {
      "text/plain": [
       "array(['कोलकाता', 'पुणे', 'केराला', 'गुज्रत'], dtype='<U7')"
      ]
     },
     "execution_count": 13,
     "metadata": {},
     "output_type": "execute_result"
    }
   ],
   "source": [
    "city"
   ]
  },
  {
   "cell_type": "code",
   "execution_count": 14,
   "id": "21d35cd1-35c1-4cd6-8f65-0fabe5b6631d",
   "metadata": {},
   "outputs": [
    {
     "data": {
      "text/plain": [
       "dtype('<U7')"
      ]
     },
     "execution_count": 14,
     "metadata": {},
     "output_type": "execute_result"
    }
   ],
   "source": [
    "city.dtype"
   ]
  },
  {
   "cell_type": "code",
   "execution_count": 15,
   "id": "e6b6018b-3e68-4091-ab5b-3910b0a73977",
   "metadata": {},
   "outputs": [
    {
     "data": {
      "text/plain": [
       "'गुज्रत'"
      ]
     },
     "execution_count": 15,
     "metadata": {},
     "output_type": "execute_result"
    }
   ],
   "source": [
    "city[3]"
   ]
  },
  {
   "cell_type": "code",
   "execution_count": 16,
   "id": "d1e95960-eb7a-4dd3-ac8f-058718d9defb",
   "metadata": {},
   "outputs": [
    {
     "data": {
      "text/plain": [
       "numpy.str_"
      ]
     },
     "execution_count": 16,
     "metadata": {},
     "output_type": "execute_result"
    }
   ],
   "source": [
    "type(city[3])"
   ]
  },
  {
   "cell_type": "code",
   "execution_count": 17,
   "id": "f60034e7-a979-4ee6-9d9f-8c5decc69608",
   "metadata": {},
   "outputs": [],
   "source": [
    "z = np.array([[5,6,7], [9,8,7],[6,4,3],[7,0,5]])"
   ]
  },
  {
   "cell_type": "code",
   "execution_count": 18,
   "id": "dc3ca84f-894d-49e9-b3f7-06380d79ffe8",
   "metadata": {},
   "outputs": [
    {
     "data": {
      "text/plain": [
       "array([[5, 6, 7],\n",
       "       [9, 8, 7],\n",
       "       [6, 4, 3],\n",
       "       [7, 0, 5]])"
      ]
     },
     "execution_count": 18,
     "metadata": {},
     "output_type": "execute_result"
    }
   ],
   "source": [
    "z"
   ]
  },
  {
   "cell_type": "code",
   "execution_count": 19,
   "id": "96ae4d0c-2b42-4930-806a-91aeecf63b81",
   "metadata": {},
   "outputs": [
    {
     "data": {
      "text/plain": [
       "(4, 3)"
      ]
     },
     "execution_count": 19,
     "metadata": {},
     "output_type": "execute_result"
    }
   ],
   "source": [
    "z.shape"
   ]
  },
  {
   "cell_type": "code",
   "execution_count": 20,
   "id": "0098c1bb-a83b-46cb-9ec7-4e07240ac0f2",
   "metadata": {},
   "outputs": [
    {
     "data": {
      "text/plain": [
       "dtype('int32')"
      ]
     },
     "execution_count": 20,
     "metadata": {},
     "output_type": "execute_result"
    }
   ],
   "source": [
    "z.dtype"
   ]
  },
  {
   "cell_type": "code",
   "execution_count": 23,
   "id": "db0f389d-bf35-4aaf-97c3-1e7367833896",
   "metadata": {},
   "outputs": [
    {
     "data": {
      "text/plain": [
       "9"
      ]
     },
     "execution_count": 23,
     "metadata": {},
     "output_type": "execute_result"
    }
   ],
   "source": [
    "z.max()"
   ]
  },
  {
   "cell_type": "code",
   "execution_count": 24,
   "id": "5353a958-bcad-4880-b54a-50f419f43fd5",
   "metadata": {},
   "outputs": [
    {
     "data": {
      "text/plain": [
       "5.583333333333333"
      ]
     },
     "execution_count": 24,
     "metadata": {},
     "output_type": "execute_result"
    }
   ],
   "source": [
    "z.mean()"
   ]
  },
  {
   "cell_type": "code",
   "execution_count": null,
   "id": "77369c8c-e943-4ef9-ac9f-93235c05f99e",
   "metadata": {},
   "outputs": [],
   "source": []
  }
 ],
 "metadata": {
  "kernelspec": {
   "display_name": "Python 3 (ipykernel)",
   "language": "python",
   "name": "python3"
  },
  "language_info": {
   "codemirror_mode": {
    "name": "ipython",
    "version": 3
   },
   "file_extension": ".py",
   "mimetype": "text/x-python",
   "name": "python",
   "nbconvert_exporter": "python",
   "pygments_lexer": "ipython3",
   "version": "3.11.7"
  }
 },
 "nbformat": 4,
 "nbformat_minor": 5
}
