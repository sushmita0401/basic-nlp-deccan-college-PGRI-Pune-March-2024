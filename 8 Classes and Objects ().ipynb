{
 "cells": [
  {
   "cell_type": "markdown",
   "id": "e75f2d7c-721e-4f32-ace4-904aae85158a",
   "metadata": {},
   "source": [
    "##### Define the class"
   ]
  },
  {
   "cell_type": "code",
   "execution_count": 5,
   "id": "ce1f778d-c9e0-438c-8378-dbbf7f8ef027",
   "metadata": {},
   "outputs": [],
   "source": [
    "class Person:                        #class definition\n",
    "   def __init__(self, n, a):         #constructor\n",
    "       self.name = n                 # self.name -> instance variables\n",
    "       self.age = a\n",
    "\n",
    "   def show(self):                   #function/method\n",
    "       print ('Values are:')\n",
    "       print(self.name, self.age)"
   ]
  },
  {
   "cell_type": "markdown",
   "id": "3db3a59a-1b6a-4caf-b6f9-97e4a0a3ad9d",
   "metadata": {},
   "source": [
    "#### Create the object"
   ]
  },
  {
   "cell_type": "code",
   "execution_count": 6,
   "id": "929ccafd-98aa-4472-873d-cb589c45acfa",
   "metadata": {},
   "outputs": [],
   "source": [
    "p1 = Person ('anil', 23)"
   ]
  },
  {
   "cell_type": "code",
   "execution_count": 7,
   "id": "ff3cdc27-1b5a-46d7-8891-343ecb18ea83",
   "metadata": {},
   "outputs": [
    {
     "name": "stdout",
     "output_type": "stream",
     "text": [
      "Values are:\n",
      "anil 23\n"
     ]
    }
   ],
   "source": [
    "p1.show()"
   ]
  },
  {
   "cell_type": "code",
   "execution_count": 8,
   "id": "1223f40f-bb5a-4bd7-b14f-c4f4244e80fe",
   "metadata": {},
   "outputs": [
    {
     "data": {
      "text/plain": [
       "'anil'"
      ]
     },
     "execution_count": 8,
     "metadata": {},
     "output_type": "execute_result"
    }
   ],
   "source": [
    "p1.name"
   ]
  },
  {
   "cell_type": "code",
   "execution_count": 9,
   "id": "1dc851a6-9b0a-4a19-83c5-f0ef1e9b88f6",
   "metadata": {},
   "outputs": [],
   "source": [
    "p2 = Person ('sunil',16)"
   ]
  },
  {
   "cell_type": "code",
   "execution_count": 10,
   "id": "cb535631-c539-48a2-92f4-b0638b8e28e5",
   "metadata": {},
   "outputs": [],
   "source": [
    "p3 = Person ('riya', 19)"
   ]
  },
  {
   "cell_type": "code",
   "execution_count": 12,
   "id": "d7d21acd-7379-4ccf-8d72-b99142387a30",
   "metadata": {},
   "outputs": [
    {
     "name": "stdout",
     "output_type": "stream",
     "text": [
      "Values are:\n",
      "sunil 16\n"
     ]
    }
   ],
   "source": [
    "p2.show()"
   ]
  },
  {
   "cell_type": "code",
   "execution_count": 13,
   "id": "712c6b9c-fb9c-43fa-aa49-967ee66fa759",
   "metadata": {},
   "outputs": [
    {
     "name": "stdout",
     "output_type": "stream",
     "text": [
      "Values are:\n",
      "riya 19\n"
     ]
    }
   ],
   "source": [
    "p3.show()"
   ]
  },
  {
   "cell_type": "code",
   "execution_count": 15,
   "id": "e79fd280-dfb2-47ec-ad2a-1cba5b7322c4",
   "metadata": {},
   "outputs": [],
   "source": [
    "class Person:                        #class definition\n",
    "   def __init__(self, n, a):         #constructor\n",
    "       self.name = n                 # self.name -> instance variables\n",
    "       self.age = a\n",
    "\n",
    "   def show(self):                   #function/method\n",
    "       print ('Values are:')\n",
    "       print(self.name, self.age)\n",
    "\n",
    "   def isEligible (self):\n",
    "       if self.age >= 18:\n",
    "          return True\n",
    "       else:\n",
    "          return False"
   ]
  },
  {
   "cell_type": "code",
   "execution_count": 17,
   "id": "aeb648c7-935a-45bd-b331-613d14fcc373",
   "metadata": {},
   "outputs": [
    {
     "data": {
      "text/plain": [
       "False"
      ]
     },
     "execution_count": 17,
     "metadata": {},
     "output_type": "execute_result"
    }
   ],
   "source": [
    "p2 = Person ('sunil', 17)\n",
    "p2.isEligible()"
   ]
  },
  {
   "cell_type": "code",
   "execution_count": 20,
   "id": "f8151502-20c7-45ac-99b1-2e6f1c26cd0e",
   "metadata": {},
   "outputs": [],
   "source": [
    "class Person:                        #class definition\n",
    "   def __init__(self, n, a= 25):         #constructor\n",
    "       self.name = n                 # self.name -> instance variables\n",
    "       self.age = a\n",
    "\n",
    "   def show(self):                   #function/method\n",
    "       print ('Values are:')\n",
    "       print(self.name, self.age)\n",
    "\n",
    "   def isEligible (self):\n",
    "       if self.age >= 18:\n",
    "          return True\n",
    "       else:\n",
    "          return False"
   ]
  },
  {
   "cell_type": "code",
   "execution_count": 21,
   "id": "ba61ee06-27bd-485f-b144-943d727dcb81",
   "metadata": {},
   "outputs": [
    {
     "name": "stdout",
     "output_type": "stream",
     "text": [
      "Values are:\n",
      "Raj 25\n"
     ]
    }
   ],
   "source": [
    "p4 = Person('Raj')\n",
    "p4.show()"
   ]
  },
  {
   "cell_type": "code",
   "execution_count": 22,
   "id": "11d4e12b-a535-4e30-9448-e1b4c78c4dff",
   "metadata": {},
   "outputs": [
    {
     "data": {
      "text/plain": [
       "True"
      ]
     },
     "execution_count": 22,
     "metadata": {},
     "output_type": "execute_result"
    }
   ],
   "source": [
    "p4.isEligible()"
   ]
  },
  {
   "cell_type": "code",
   "execution_count": null,
   "id": "27abf8ba-4f7a-445d-bbac-cb7e68e4b218",
   "metadata": {},
   "outputs": [],
   "source": []
  }
 ],
 "metadata": {
  "kernelspec": {
   "display_name": "Python 3 (ipykernel)",
   "language": "python",
   "name": "python3"
  },
  "language_info": {
   "codemirror_mode": {
    "name": "ipython",
    "version": 3
   },
   "file_extension": ".py",
   "mimetype": "text/x-python",
   "name": "python",
   "nbconvert_exporter": "python",
   "pygments_lexer": "ipython3",
   "version": "3.11.7"
  }
 },
 "nbformat": 4,
 "nbformat_minor": 5
}
