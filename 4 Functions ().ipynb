{
 "cells": [
  {
   "cell_type": "markdown",
   "id": "b895397a-ebfb-467f-9c88-5391add8501e",
   "metadata": {},
   "source": [
    "#### Basic Functions"
   ]
  },
  {
   "cell_type": "code",
   "execution_count": 1,
   "id": "cb7054d2-f44c-4d05-ab13-3635840a7b53",
   "metadata": {},
   "outputs": [],
   "source": [
    "def show():\n",
    "    print ('Hello World')"
   ]
  },
  {
   "cell_type": "code",
   "execution_count": 2,
   "id": "60e4afc1-ac32-4db5-9f5a-ab22a19e0bc8",
   "metadata": {},
   "outputs": [
    {
     "name": "stdout",
     "output_type": "stream",
     "text": [
      "Hello World\n"
     ]
    }
   ],
   "source": [
    "# Function Call\n",
    "show()"
   ]
  },
  {
   "cell_type": "code",
   "execution_count": 3,
   "id": "dc3b5fe5-e550-44ce-8113-1fd752599188",
   "metadata": {},
   "outputs": [
    {
     "name": "stdout",
     "output_type": "stream",
     "text": [
      "Hello World\n",
      "Hello World\n",
      "Hello World\n"
     ]
    }
   ],
   "source": [
    "show()\n",
    "show()\n",
    "show()"
   ]
  },
  {
   "cell_type": "code",
   "execution_count": 4,
   "id": "0c632738-cab1-4229-9370-9590ac0174f8",
   "metadata": {},
   "outputs": [],
   "source": [
    "  def show():\n",
    "    print ('Hello World')\n",
    "    print ('Welcome')\n",
    "    print ('Goodbye...')"
   ]
  },
  {
   "cell_type": "code",
   "execution_count": 5,
   "id": "1330b6e6-ad74-48a3-880c-c08ea9a492a8",
   "metadata": {},
   "outputs": [
    {
     "name": "stdout",
     "output_type": "stream",
     "text": [
      "Hello World\n",
      "Welcome\n",
      "Goodbye...\n",
      "Hello World\n",
      "Welcome\n",
      "Goodbye...\n"
     ]
    }
   ],
   "source": [
    "show()\n",
    "show()"
   ]
  },
  {
   "cell_type": "markdown",
   "id": "7ad306a3-1aa7-4576-ae95-098a4656539d",
   "metadata": {},
   "source": [
    "##### Parameterized Functions"
   ]
  },
  {
   "cell_type": "code",
   "execution_count": 6,
   "id": "4698028d-7719-40dc-ac68-2d5d4b182b45",
   "metadata": {},
   "outputs": [],
   "source": [
    "def square(n):   # n- > parameter / argument\n",
    "    sq = n*n\n",
    "    print ('Square is: ', sq)"
   ]
  },
  {
   "cell_type": "code",
   "execution_count": 7,
   "id": "3a79c237-5088-4e36-ab84-3800af9b5ae3",
   "metadata": {},
   "outputs": [
    {
     "name": "stdout",
     "output_type": "stream",
     "text": [
      "Square is:  64\n"
     ]
    }
   ],
   "source": [
    "square(8)"
   ]
  },
  {
   "cell_type": "code",
   "execution_count": 8,
   "id": "823a9448-2fc3-46b3-9332-dd5d6dda44d3",
   "metadata": {},
   "outputs": [
    {
     "name": "stdout",
     "output_type": "stream",
     "text": [
      "Square is:  36\n"
     ]
    }
   ],
   "source": [
    "square(6)"
   ]
  },
  {
   "cell_type": "code",
   "execution_count": 9,
   "id": "b8cb81b7-c044-47d9-bfba-62fab0061a27",
   "metadata": {},
   "outputs": [],
   "source": [
    "def convert (s):\n",
    "    print ('Lower:', s.lower())\n",
    "    print ('Upper:', s.upper())\n",
    "    print('Title:', s.title())\n",
    "    \n",
    "    "
   ]
  },
  {
   "cell_type": "code",
   "execution_count": 11,
   "id": "15a4193d-4a37-4d63-8341-1c6f5e671ae2",
   "metadata": {},
   "outputs": [
    {
     "name": "stdout",
     "output_type": "stream",
     "text": [
      "Lower: sushmita\n",
      "Upper: SUSHMITA\n",
      "Title: Sushmita\n"
     ]
    }
   ],
   "source": [
    "convert( 'SuSHmitA')"
   ]
  },
  {
   "cell_type": "code",
   "execution_count": 12,
   "id": "f840b9d7-af76-49c5-b17d-0aaff75073b9",
   "metadata": {},
   "outputs": [
    {
     "name": "stdout",
     "output_type": "stream",
     "text": [
      "Lower: india\n",
      "Upper: INDIA\n",
      "Title: India\n"
     ]
    }
   ],
   "source": [
    "convert ('INDIA')"
   ]
  },
  {
   "cell_type": "code",
   "execution_count": 13,
   "id": "c74fa9f2-601e-466e-b482-c1dd1953474d",
   "metadata": {},
   "outputs": [
    {
     "name": "stdout",
     "output_type": "stream",
     "text": [
      "Lower: south korea\n",
      "Upper: SOUTH KOREA\n",
      "Title: South Korea\n"
     ]
    }
   ],
   "source": [
    "convert('SOUTH KOREA')"
   ]
  },
  {
   "cell_type": "code",
   "execution_count": 16,
   "id": "0c804255-f55c-4cab-82ae-c7ed1653f87d",
   "metadata": {},
   "outputs": [],
   "source": [
    "def larger (x,y):\n",
    "    if x>y:\n",
    "        print (x, 'is larger.')\n",
    "    else:\n",
    "        print(y, 'is larger.')"
   ]
  },
  {
   "cell_type": "code",
   "execution_count": 17,
   "id": "d97a493a-dd95-46ea-95e6-64a2ce70dc82",
   "metadata": {},
   "outputs": [
    {
     "name": "stdout",
     "output_type": "stream",
     "text": [
      "98 is larger.\n"
     ]
    }
   ],
   "source": [
    "larger (54,98)"
   ]
  },
  {
   "cell_type": "code",
   "execution_count": 20,
   "id": "dcd6c4e2-27ab-442a-a9d4-26ceea31b64c",
   "metadata": {},
   "outputs": [
    {
     "name": "stdout",
     "output_type": "stream",
     "text": [
      "67.98 is larger.\n"
     ]
    }
   ],
   "source": [
    "larger (56.78, 67.98)"
   ]
  },
  {
   "cell_type": "markdown",
   "id": "bf24ce9b-3082-4019-8f4d-5a769695f2d6",
   "metadata": {},
   "source": [
    "##### Function Returning Values"
   ]
  },
  {
   "cell_type": "code",
   "execution_count": 27,
   "id": "3bcb8246-2139-4d97-9f67-c24137d1e50c",
   "metadata": {},
   "outputs": [],
   "source": [
    "def square (num):\n",
    "    sq= num ** 2\n",
    "    return sq"
   ]
  },
  {
   "cell_type": "code",
   "execution_count": 32,
   "id": "91956951-927f-4484-a6b6-f9dc910523b5",
   "metadata": {},
   "outputs": [],
   "source": [
    "x = square (4)"
   ]
  },
  {
   "cell_type": "code",
   "execution_count": 33,
   "id": "a85352f8-bdbf-438f-a9bd-0df568cdd62c",
   "metadata": {},
   "outputs": [
    {
     "name": "stdout",
     "output_type": "stream",
     "text": [
      "Square is: 16\n"
     ]
    }
   ],
   "source": [
    "print ('Square is:', x)"
   ]
  },
  {
   "cell_type": "code",
   "execution_count": 34,
   "id": "504e0cb3-820e-49cb-8135-04ef5e9327a1",
   "metadata": {},
   "outputs": [
    {
     "name": "stdout",
     "output_type": "stream",
     "text": [
      " Square is: 9\n"
     ]
    }
   ],
   "source": [
    "print (' Square is:', square (3))"
   ]
  },
  {
   "cell_type": "code",
   "execution_count": 35,
   "id": "535db4dc-c2c5-402c-8a63-3f6f52f898cc",
   "metadata": {},
   "outputs": [
    {
     "data": {
      "text/plain": [
       "27"
      ]
     },
     "execution_count": 35,
     "metadata": {},
     "output_type": "execute_result"
    }
   ],
   "source": [
    "3 * square(3)"
   ]
  },
  {
   "cell_type": "code",
   "execution_count": 36,
   "id": "fb039aa1-0c93-4b0e-9be6-2c46a6b50975",
   "metadata": {},
   "outputs": [],
   "source": [
    "def larger (x,y):\n",
    "    if x>y:\n",
    "       return x\n",
    "    else:\n",
    "        return y"
   ]
  },
  {
   "cell_type": "code",
   "execution_count": 37,
   "id": "7744cce9-16d7-4ad1-a0eb-acfa65122ce1",
   "metadata": {},
   "outputs": [
    {
     "name": "stdout",
     "output_type": "stream",
     "text": [
      "6\n"
     ]
    }
   ],
   "source": [
    "print (larger (4,6))"
   ]
  },
  {
   "cell_type": "markdown",
   "id": "4eabf067-4b5c-4e23-b1d1-3b9b5d2a8208",
   "metadata": {},
   "source": [
    "##### Return multiple values"
   ]
  },
  {
   "cell_type": "code",
   "execution_count": 38,
   "id": "ffabf694-be98-4d4b-af14-6f102215cb00",
   "metadata": {},
   "outputs": [],
   "source": [
    "def calc(n):\n",
    "    sq = n*n\n",
    "    cu =n ** 3\n",
    "    return sq, cu"
   ]
  },
  {
   "cell_type": "code",
   "execution_count": 39,
   "id": "69862f68-8863-4bb3-8624-573daddefef8",
   "metadata": {},
   "outputs": [
    {
     "data": {
      "text/plain": [
       "(36, 216)"
      ]
     },
     "execution_count": 39,
     "metadata": {},
     "output_type": "execute_result"
    }
   ],
   "source": [
    "calc(6)"
   ]
  },
  {
   "cell_type": "code",
   "execution_count": 40,
   "id": "e1f22aef-9eaa-4eaa-bcf2-517e08769efd",
   "metadata": {},
   "outputs": [],
   "source": [
    "# Write a function -> is positive() to pass a number as  parameter and print \n",
    "# True if number is positive else print negative"
   ]
  },
  {
   "cell_type": "code",
   "execution_count": 43,
   "id": "c47bc35f-97fb-4a78-a912-f398dd3878fe",
   "metadata": {},
   "outputs": [],
   "source": [
    "def isPositive (n):\n",
    "    if n>0:\n",
    "        return True\n",
    "    else:\n",
    "        return False"
   ]
  },
  {
   "cell_type": "code",
   "execution_count": 44,
   "id": "6a6a0550-11ad-437c-aa1d-1511980125c0",
   "metadata": {},
   "outputs": [
    {
     "data": {
      "text/plain": [
       "True"
      ]
     },
     "execution_count": 44,
     "metadata": {},
     "output_type": "execute_result"
    }
   ],
   "source": [
    "isPositive(45)"
   ]
  },
  {
   "cell_type": "code",
   "execution_count": 45,
   "id": "786eace9-e8a0-4226-b558-e9b44246fcc7",
   "metadata": {},
   "outputs": [
    {
     "data": {
      "text/plain": [
       "False"
      ]
     },
     "execution_count": 45,
     "metadata": {},
     "output_type": "execute_result"
    }
   ],
   "source": [
    "isPositive(-28)"
   ]
  },
  {
   "cell_type": "code",
   "execution_count": 47,
   "id": "899b716c-aa70-4ee3-832a-2bbd28073116",
   "metadata": {},
   "outputs": [],
   "source": [
    "# Write a function to pass the distance in kilometers as parameter\n",
    "# and return distance in miles as output\n",
    "\n",
    "# miles = kilometers / 1.609"
   ]
  },
  {
   "cell_type": "code",
   "execution_count": 50,
   "id": "c6f31df4-b71e-4d29-8feb-fc6a9339422f",
   "metadata": {},
   "outputs": [],
   "source": [
    "def miles(distance):\n",
    "    ml = distance/1.609\n",
    "    return ml"
   ]
  },
  {
   "cell_type": "code",
   "execution_count": 51,
   "id": "9655d579-08d5-4ce1-8f0a-c2395a58d881",
   "metadata": {},
   "outputs": [
    {
     "data": {
      "text/plain": [
       "124.30080795525171"
      ]
     },
     "execution_count": 51,
     "metadata": {},
     "output_type": "execute_result"
    }
   ],
   "source": [
    "miles(200)"
   ]
  },
  {
   "cell_type": "markdown",
   "id": "b4d8e1a5-b7ec-49af-8fb4-d8c9635ae871",
   "metadata": {},
   "source": [
    "##### Default Parameters/Keyword Arguemnts"
   ]
  },
  {
   "cell_type": "code",
   "execution_count": 52,
   "id": "a00eec3b-dd90-42ec-b497-1d1ed03b2f91",
   "metadata": {},
   "outputs": [],
   "source": [
    "def add (x=5, y=2, z=3):\n",
    "    a= x+y+z\n",
    "    return a"
   ]
  },
  {
   "cell_type": "code",
   "execution_count": 58,
   "id": "3b1abc43-aa82-4c5b-8d8d-f2ea937d9598",
   "metadata": {},
   "outputs": [
    {
     "name": "stdout",
     "output_type": "stream",
     "text": [
      "Result -1: 11\n",
      "Result -2: 8\n",
      "Result -3: 9\n",
      "Result -4: 10\n",
      "Result -5: 17\n",
      "Result -1: 12\n"
     ]
    }
   ],
   "source": [
    "print ('Result -1:', add (4,1,6))\n",
    "print ('Result -2:', add (4,1))\n",
    "print ('Result -3:', add (4))\n",
    "print ('Result -4:', add ())\n",
    "print ('Result -5:', add ( y=6, z=9, x=2))\n",
    "print ('Result -1:', add (z =5))"
   ]
  },
  {
   "cell_type": "code",
   "execution_count": 59,
   "id": "b75f4a69-de5b-4dea-8a42-31e45e4f7487",
   "metadata": {},
   "outputs": [],
   "source": [
    "x = [4,6,5,8,7,2,9]"
   ]
  },
  {
   "cell_type": "code",
   "execution_count": 60,
   "id": "d9d9293e-bec2-44a5-b2c5-bcd483e4aebd",
   "metadata": {},
   "outputs": [
    {
     "data": {
      "text/plain": [
       "[2, 4, 5, 6, 7, 8, 9]"
      ]
     },
     "execution_count": 60,
     "metadata": {},
     "output_type": "execute_result"
    }
   ],
   "source": [
    "sorted(x)"
   ]
  },
  {
   "cell_type": "code",
   "execution_count": 73,
   "id": "3e23334c-636c-402a-b07c-36c32bf14719",
   "metadata": {},
   "outputs": [
    {
     "name": "stdout",
     "output_type": "stream",
     "text": [
      "Help on built-in function sorted in module builtins:\n",
      "\n",
      "sorted(iterable, /, *, key=None, reverse=False)\n",
      "    Return a new list containing all items from the iterable in ascending order.\n",
      "    \n",
      "    A custom key function can be supplied to customize the sort order, and the\n",
      "    reverse flag can be set to request the result in descending order.\n",
      "\n"
     ]
    }
   ],
   "source": [
    "help(sorted)"
   ]
  },
  {
   "cell_type": "code",
   "execution_count": 66,
   "id": "b30ed39c-caa1-4267-954a-ac08fb8463af",
   "metadata": {},
   "outputs": [
    {
     "data": {
      "text/plain": [
       "[9, 8, 7, 6, 5, 4, 2]"
      ]
     },
     "execution_count": 66,
     "metadata": {},
     "output_type": "execute_result"
    }
   ],
   "source": [
    "sorted(x, reverse =True)"
   ]
  },
  {
   "cell_type": "code",
   "execution_count": 67,
   "id": "d97b7dd4-046e-4134-bbe5-ec7a8d2807c6",
   "metadata": {},
   "outputs": [],
   "source": [
    "x, y =45,23"
   ]
  },
  {
   "cell_type": "code",
   "execution_count": 68,
   "id": "0f62f91c-31be-48d7-868a-66c2f844731b",
   "metadata": {},
   "outputs": [
    {
     "name": "stdout",
     "output_type": "stream",
     "text": [
      "45 23\n"
     ]
    }
   ],
   "source": [
    "print (x,y)"
   ]
  },
  {
   "cell_type": "code",
   "execution_count": 69,
   "id": "dfd07762-f837-42cb-bbc1-e7007f7ac37d",
   "metadata": {},
   "outputs": [
    {
     "name": "stdout",
     "output_type": "stream",
     "text": [
      "Help on built-in function print in module builtins:\n",
      "\n",
      "print(*args, sep=' ', end='\\n', file=None, flush=False)\n",
      "    Prints the values to a stream, or to sys.stdout by default.\n",
      "    \n",
      "    sep\n",
      "      string inserted between values, default a space.\n",
      "    end\n",
      "      string appended after the last value, default a newline.\n",
      "    file\n",
      "      a file-like object (stream); defaults to the current sys.stdout.\n",
      "    flush\n",
      "      whether to forcibly flush the stream.\n",
      "\n"
     ]
    }
   ],
   "source": [
    "help(print)"
   ]
  },
  {
   "cell_type": "code",
   "execution_count": 70,
   "id": "d2767518-0d0a-457c-8136-9c7a479aac04",
   "metadata": {},
   "outputs": [
    {
     "name": "stdout",
     "output_type": "stream",
     "text": [
      "45_23\n"
     ]
    }
   ],
   "source": [
    "print (x, y, sep='_')"
   ]
  },
  {
   "cell_type": "code",
   "execution_count": 71,
   "id": "8a2792df-2008-4526-8b60-07b66379c980",
   "metadata": {},
   "outputs": [],
   "source": [
    "x,y,z ,w =7,4,3,5"
   ]
  },
  {
   "cell_type": "code",
   "execution_count": 72,
   "id": "93a706f8-ceff-40ed-8378-6ae122b95222",
   "metadata": {},
   "outputs": [
    {
     "name": "stdout",
     "output_type": "stream",
     "text": [
      "7_4_3_5\n"
     ]
    }
   ],
   "source": [
    "print(x, y, z, w, sep= '_')"
   ]
  },
  {
   "cell_type": "markdown",
   "id": "fc3e15cd-3f0f-43f6-8b5f-ef38505c860e",
   "metadata": {},
   "source": [
    "##### Lambda Functions "
   ]
  },
  {
   "cell_type": "code",
   "execution_count": 74,
   "id": "45f7ea58-88b5-43c5-955e-d7081cd84c9a",
   "metadata": {},
   "outputs": [],
   "source": [
    "square = lambda x : x * x"
   ]
  },
  {
   "cell_type": "code",
   "execution_count": 75,
   "id": "9de30f6f-15cb-4329-b264-1b67a1e95bbb",
   "metadata": {},
   "outputs": [
    {
     "data": {
      "text/plain": [
       "25"
      ]
     },
     "execution_count": 75,
     "metadata": {},
     "output_type": "execute_result"
    }
   ],
   "source": [
    "square(5)"
   ]
  },
  {
   "cell_type": "markdown",
   "id": "f6ed753f-54de-470f-aefb-d0e3c52c5ae0",
   "metadata": {},
   "source": [
    "##### lambda-map function"
   ]
  },
  {
   "cell_type": "code",
   "execution_count": 76,
   "id": "0ff8519f-b5b4-41ec-aab4-5f64b6deda67",
   "metadata": {},
   "outputs": [],
   "source": [
    "num = [ 56,34,13,58,51,47,30]"
   ]
  },
  {
   "cell_type": "code",
   "execution_count": 77,
   "id": "ccff2c61-5b08-47f8-ab5f-b574c6a92e36",
   "metadata": {},
   "outputs": [],
   "source": [
    "new=  map(lambda x: x/2 ,num)"
   ]
  },
  {
   "cell_type": "code",
   "execution_count": 78,
   "id": "4f08f9ed-c5a8-49e9-a849-74da9d51c835",
   "metadata": {},
   "outputs": [
    {
     "data": {
      "text/plain": [
       "[28.0, 17.0, 6.5, 29.0, 25.5, 23.5, 15.0]"
      ]
     },
     "execution_count": 78,
     "metadata": {},
     "output_type": "execute_result"
    }
   ],
   "source": [
    "list(new)"
   ]
  },
  {
   "cell_type": "code",
   "execution_count": 79,
   "id": "3b0282ce-21a0-4da4-b7cf-91811b82ced9",
   "metadata": {},
   "outputs": [
    {
     "data": {
      "text/plain": [
       "[3136, 1156, 169, 3364, 2601, 2209, 900]"
      ]
     },
     "execution_count": 79,
     "metadata": {},
     "output_type": "execute_result"
    }
   ],
   "source": [
    "new=  map(lambda x: x ** 2 ,num)\n",
    "list(new)"
   ]
  },
  {
   "cell_type": "markdown",
   "id": "13590acf-22d9-4328-9d34-e0e195c1d7bd",
   "metadata": {},
   "source": [
    "##### lambda-filter function"
   ]
  },
  {
   "cell_type": "code",
   "execution_count": 80,
   "id": "99facb19-9be0-4f7c-8a97-70075cd2cec0",
   "metadata": {},
   "outputs": [
    {
     "data": {
      "text/plain": [
       "[56, 34, 13, 58, 51, 47, 30]"
      ]
     },
     "execution_count": 80,
     "metadata": {},
     "output_type": "execute_result"
    }
   ],
   "source": [
    "num"
   ]
  },
  {
   "cell_type": "code",
   "execution_count": 83,
   "id": "a3b5b5c9-751f-49a4-abe9-23bff51da00a",
   "metadata": {},
   "outputs": [],
   "source": [
    "new= filter (lambda x : x > 40, num)"
   ]
  },
  {
   "cell_type": "code",
   "execution_count": 82,
   "id": "ad2751f8-1818-4917-a637-e438a4a5b9ee",
   "metadata": {},
   "outputs": [
    {
     "data": {
      "text/plain": [
       "[56, 58, 51, 47]"
      ]
     },
     "execution_count": 82,
     "metadata": {},
     "output_type": "execute_result"
    }
   ],
   "source": [
    "list(new)"
   ]
  },
  {
   "cell_type": "code",
   "execution_count": 84,
   "id": "f4a0feb4-f41f-4d03-9211-6997307b8886",
   "metadata": {},
   "outputs": [
    {
     "data": {
      "text/plain": [
       "[13, 51, 47]"
      ]
     },
     "execution_count": 84,
     "metadata": {},
     "output_type": "execute_result"
    }
   ],
   "source": [
    "new= filter (lambda x : x % 2 == 1, num)\n",
    "list(new)"
   ]
  },
  {
   "cell_type": "code",
   "execution_count": 85,
   "id": "9daf9f40-d954-49b6-96cf-7bce650eabaf",
   "metadata": {},
   "outputs": [
    {
     "data": {
      "text/plain": [
       "[56, 34, 58, 30]"
      ]
     },
     "execution_count": 85,
     "metadata": {},
     "output_type": "execute_result"
    }
   ],
   "source": [
    "new= filter (lambda x : x % 2 == 0, num)\n",
    "list(new)"
   ]
  },
  {
   "cell_type": "code",
   "execution_count": null,
   "id": "a16c786b-f99a-4a82-a4d6-0887a64bcb07",
   "metadata": {},
   "outputs": [],
   "source": []
  }
 ],
 "metadata": {
  "kernelspec": {
   "display_name": "Python 3 (ipykernel)",
   "language": "python",
   "name": "python3"
  },
  "language_info": {
   "codemirror_mode": {
    "name": "ipython",
    "version": 3
   },
   "file_extension": ".py",
   "mimetype": "text/x-python",
   "name": "python",
   "nbconvert_exporter": "python",
   "pygments_lexer": "ipython3",
   "version": "3.11.7"
  }
 },
 "nbformat": 4,
 "nbformat_minor": 5
}
