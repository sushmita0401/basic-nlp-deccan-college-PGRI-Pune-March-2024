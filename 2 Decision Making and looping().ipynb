{
 "cells": [
  {
   "cell_type": "code",
   "execution_count": 8,
   "id": "a608f58c-071d-4628-9949-38c11091e06c",
   "metadata": {},
   "outputs": [
    {
     "name": "stdin",
     "output_type": "stream",
     "text": [
      "Enter the number: 98\n"
     ]
    },
    {
     "name": "stdout",
     "output_type": "stream",
     "text": [
      "Number is positive\n"
     ]
    }
   ],
   "source": [
    "# Write a program to  check the number is positive or negative\n",
    "\n",
    "num = int(input ('Enter the number:'))\n",
    "if num>0:\n",
    "    print('Number is positive')"
   ]
  },
  {
   "cell_type": "code",
   "execution_count": 2,
   "id": "d834151f-70fa-4da6-a101-345bd7877844",
   "metadata": {},
   "outputs": [
    {
     "name": "stdin",
     "output_type": "stream",
     "text": [
      "Enter the number: -90\n"
     ]
    }
   ],
   "source": [
    "# write a program to check if number is positive or negative\n",
    "\n",
    "num= int(input('Enter the number:'))\n",
    "if num > 0:\n",
    "    print ( 'Number is positive!')\n",
    "\n"
   ]
  },
  {
   "cell_type": "code",
   "execution_count": 2,
   "id": "4016c316-8022-4a3d-8eec-7836b77d1550",
   "metadata": {
    "scrolled": true
   },
   "outputs": [
    {
     "name": "stdin",
     "output_type": "stream",
     "text": [
      "Enter the number: -67\n"
     ]
    },
    {
     "name": "stdout",
     "output_type": "stream",
     "text": [
      "Number is negative!\n"
     ]
    }
   ],
   "source": [
    "# write a program to check if number is positive or negative\n",
    "\n",
    "num= int(input('Enter the number:'))\n",
    "if num > 0:\n",
    "    print ( 'Number is positive!')\n",
    "else: \n",
    "    print ('Number is negative!')\n"
   ]
  },
  {
   "cell_type": "code",
   "execution_count": 9,
   "id": "abcdd9a8-20bd-4e12-a9fe-8acb77838b39",
   "metadata": {},
   "outputs": [
    {
     "name": "stdin",
     "output_type": "stream",
     "text": [
      "Enter the number: 0\n"
     ]
    },
    {
     "name": "stdout",
     "output_type": "stream",
     "text": [
      "Number is negative!\n"
     ]
    }
   ],
   "source": [
    "# write a program to check if number is positive or negative\n",
    "\n",
    "num= int(input('Enter the number:'))\n",
    "if num > 0:\n",
    "    print ( 'Number is positive!')\n",
    "else: \n",
    "    print ('Number is negative!')\n"
   ]
  },
  {
   "cell_type": "code",
   "execution_count": 2,
   "id": "bc5ddce0-59d8-40dd-b610-b4ae6c2e16dc",
   "metadata": {},
   "outputs": [
    {
     "name": "stdin",
     "output_type": "stream",
     "text": [
      "Enter the number: 8\n"
     ]
    },
    {
     "name": "stdout",
     "output_type": "stream",
     "text": [
      "Number is positive!\n"
     ]
    }
   ],
   "source": [
    "# write a program to check if number is positive or negative\n",
    "\n",
    "num= int(input('Enter the number:'))\n",
    "if num > 0:                              # Compulsory, Condition, Non-repeatable\n",
    "    print ( 'Number is positive!')\n",
    "\n",
    "elif num == 0:                           # Optional , Condition, Repeatable\n",
    "    print ('Number is zero!')\n",
    "else:                                    # Optional, No-condition, Non-repeatable \n",
    "    print ('Number is negative!')\n",
    "    "
   ]
  },
  {
   "cell_type": "code",
   "execution_count": 3,
   "id": "94282ea0-819b-4022-8685-121b8effa027",
   "metadata": {},
   "outputs": [
    {
     "name": "stdin",
     "output_type": "stream",
     "text": [
      "Enter the number: 0\n"
     ]
    },
    {
     "name": "stdout",
     "output_type": "stream",
     "text": [
      "Number is zero!\n"
     ]
    }
   ],
   "source": [
    "# write a program to check if number is positive or negative\n",
    "\n",
    "num= int(input('Enter the number:'))\n",
    "if num > 0:                              \n",
    "    print ( 'Number is positive!')\n",
    "\n",
    "elif num == 0:                           \n",
    "    print ('Number is zero!')\n",
    "else:                                     \n",
    "    print ('Number is negative!')\n",
    "    "
   ]
  },
  {
   "cell_type": "code",
   "execution_count": 4,
   "id": "3b5e57a1-8c31-4a7d-9a3f-1fefffc2bd77",
   "metadata": {},
   "outputs": [
    {
     "name": "stdin",
     "output_type": "stream",
     "text": [
      "Enter the number: 10\n"
     ]
    },
    {
     "name": "stdout",
     "output_type": "stream",
     "text": [
      "Number is positive!\n",
      "Goodbye!\n"
     ]
    }
   ],
   "source": [
    "# Write a program to check the number is postive or negative\n",
    "\n",
    "num = int(input( 'Enter the number:'))\n",
    "if num > 0:\n",
    "    print ('Number is positive!')\n",
    "    print ('Goodbye!')\n",
    "\n",
    "else:\n",
    "    print(' Number is negative!')\n",
    "    print ('Done!')\n",
    "\n",
    "\n"
   ]
  },
  {
   "cell_type": "code",
   "execution_count": 5,
   "id": "447fdbc1-5537-4ff8-84ad-89dc6080e982",
   "metadata": {},
   "outputs": [
    {
     "name": "stdin",
     "output_type": "stream",
     "text": [
      "Enter the number: -6\n"
     ]
    },
    {
     "name": "stdout",
     "output_type": "stream",
     "text": [
      " Number is negative!\n",
      "Done!\n"
     ]
    }
   ],
   "source": [
    "# Write a program to check the number is postive or negative\n",
    "\n",
    "num = int(input( 'Enter the number:'))\n",
    "if num > 0:\n",
    "    print ('Number is positive!')\n",
    "    print ('Goodbye!')\n",
    "\n",
    "else:\n",
    "    print(' Number is negative!')\n",
    "    print ('Done!')"
   ]
  },
  {
   "cell_type": "code",
   "execution_count": 10,
   "id": "57b81047-d406-44b5-be08-37c0f3663c5c",
   "metadata": {},
   "outputs": [
    {
     "data": {
      "text/plain": [
       "0"
      ]
     },
     "execution_count": 10,
     "metadata": {},
     "output_type": "execute_result"
    }
   ],
   "source": [
    "# Write a program to check the number is odd or even?\n",
    "12 % 2"
   ]
  },
  {
   "cell_type": "code",
   "execution_count": 11,
   "id": "3059b610-6444-4318-b67f-0c1a5575bd3a",
   "metadata": {},
   "outputs": [
    {
     "data": {
      "text/plain": [
       "1"
      ]
     },
     "execution_count": 11,
     "metadata": {},
     "output_type": "execute_result"
    }
   ],
   "source": [
    "13 % 2"
   ]
  },
  {
   "cell_type": "code",
   "execution_count": 5,
   "id": "8797acc0-f82e-4f6a-a52b-5f07ec9c3acd",
   "metadata": {},
   "outputs": [
    {
     "name": "stdin",
     "output_type": "stream",
     "text": [
      "Enter the number:  17\n"
     ]
    },
    {
     "name": "stdout",
     "output_type": "stream",
     "text": [
      " Number is odd!\n"
     ]
    }
   ],
   "source": [
    "# Write a program to check the number is odd or even?\n",
    "\n",
    "num = int(input( 'Enter the number: '))\n",
    "if num % 2 == 0:\n",
    "    print ('Number is even!')\n",
    "\n",
    "else:\n",
    "    print(' Number is odd!')\n",
    "\n",
    "\n"
   ]
  },
  {
   "cell_type": "code",
   "execution_count": 7,
   "id": "129288b9-d521-43b9-99d7-4e6bacade6f2",
   "metadata": {},
   "outputs": [
    {
     "name": "stdin",
     "output_type": "stream",
     "text": [
      "Enter the number:  76\n"
     ]
    },
    {
     "name": "stdout",
     "output_type": "stream",
     "text": [
      "Number is in the range!\n"
     ]
    }
   ],
   "source": [
    "# Write a program to check the number is between 40 to 100?\n",
    "\n",
    "num = int(input( 'Enter the number: '))\n",
    "if num >= 40:\n",
    "    if num <=100:\n",
    "     print ('Number is in the range!')\n",
    "\n",
    "else:\n",
    "    print(' Number is not in range!')\n"
   ]
  },
  {
   "cell_type": "code",
   "execution_count": 11,
   "id": "e87c402b-fb18-4918-8195-f8e439d2a736",
   "metadata": {},
   "outputs": [
    {
     "name": "stdin",
     "output_type": "stream",
     "text": [
      "Enter the number:  123\n"
     ]
    },
    {
     "name": "stdout",
     "output_type": "stream",
     "text": [
      "Number not in range!\n"
     ]
    }
   ],
   "source": [
    "# Write a program to check the number is between 40 to 100?\n",
    "\n",
    "num = int(input( 'Enter the number: '))\n",
    "if num >= 40:\n",
    "    if num <=100:                      # Inside if another if is written\n",
    "     print ('Number is in the range!')\n",
    "    else:\n",
    "        print('Number not in range!')\n",
    "else:\n",
    "    print(' Number is not in range!')\n"
   ]
  },
  {
   "cell_type": "code",
   "execution_count": 14,
   "id": "5641719a-1fb1-4607-9678-747fbe1edcbb",
   "metadata": {},
   "outputs": [
    {
     "name": "stdin",
     "output_type": "stream",
     "text": [
      "Enter the number:  67\n"
     ]
    },
    {
     "name": "stdout",
     "output_type": "stream",
     "text": [
      "Number is in the range!\n"
     ]
    }
   ],
   "source": [
    "# Write a program to check the number is between 40 to 100?\n",
    "\n",
    "num = int(input( 'Enter the number: '))\n",
    "if num >= 40 and num<=100:\n",
    "     print ('Number is in the range!')\n",
    "else:\n",
    "    print(' Number is not in range!')"
   ]
  },
  {
   "cell_type": "code",
   "execution_count": 17,
   "id": "a83762f1-412c-4bb4-aac0-16b0b76f8e61",
   "metadata": {},
   "outputs": [
    {
     "name": "stdin",
     "output_type": "stream",
     "text": [
      "Enter the number:  78\n"
     ]
    },
    {
     "name": "stdout",
     "output_type": "stream",
     "text": [
      "Number is in the range!\n"
     ]
    }
   ],
   "source": [
    "# Write a program to check the number is between 40 to 100?\n",
    "\n",
    "num = int(input( 'Enter the number: '))\n",
    "if num >= 40 or num<=100:\n",
    "     print ('Number is in the range!')\n",
    "else:\n",
    "    print(' Number is not in range!')"
   ]
  },
  {
   "cell_type": "code",
   "execution_count": 6,
   "id": "f3d486c1-0967-4fa8-9794-74a34ca32407",
   "metadata": {},
   "outputs": [
    {
     "name": "stdin",
     "output_type": "stream",
     "text": [
      "Enter the marks : 67\n"
     ]
    },
    {
     "name": "stdout",
     "output_type": "stream",
     "text": [
      " First Class!\n"
     ]
    }
   ],
   "source": [
    "# Read the marks and find the grade of student\n",
    "\n",
    "marks = float(input( 'Enter the marks :'))\n",
    "if marks >= 75:\n",
    "   print('Distinction!')\n",
    "elif marks >=60:\n",
    "   print(' First Class!')\n",
    "\n",
    "elif marks >=50:\n",
    "   print( 'Second Class!')\n",
    "\n",
    "elif marks >=40:\n",
    "   print ( ' Pass Class!')\n",
    "\n",
    "else:\n",
    "   print ('Failed!')"
   ]
  },
  {
   "cell_type": "code",
   "execution_count": 7,
   "id": "60c5dbc6-2870-4787-b18e-f2a2c7967949",
   "metadata": {},
   "outputs": [
    {
     "name": "stdin",
     "output_type": "stream",
     "text": [
      "Enter the marks : 89\n"
     ]
    },
    {
     "name": "stdout",
     "output_type": "stream",
     "text": [
      "Distinction!\n"
     ]
    }
   ],
   "source": [
    "# Read the marks and find the grade of student\n",
    "\n",
    "marks = float(input( 'Enter the marks :'))\n",
    "if marks >= 75:\n",
    "   print('Distinction!')\n",
    "elif marks >=60:\n",
    "   print(' First Class!')\n",
    "\n",
    "elif marks >=50:\n",
    "   print( 'Second Class!')\n",
    "\n",
    "elif marks >=40: \n",
    "   print ( ' Pass Class!')\n",
    "\n",
    "else:\n",
    "   print ('Failed!')"
   ]
  },
  {
   "cell_type": "markdown",
   "id": "6bdff2f3-c275-4652-a6b8-de042d8b29bb",
   "metadata": {},
   "source": [
    "Loops"
   ]
  },
  {
   "cell_type": "code",
   "execution_count": null,
   "id": "26cee673-b472-453c-842d-cd9a81cffc91",
   "metadata": {},
   "outputs": [],
   "source": [
    "# Print my name for 10 times\n",
    "b= \"Tuks\"\n",
    "print (b)"
   ]
  },
  {
   "cell_type": "code",
   "execution_count": null,
   "id": "7bcd4938-f271-44f4-a9e8-4a144efb9fd8",
   "metadata": {},
   "outputs": [],
   "source": []
  },
  {
   "cell_type": "code",
   "execution_count": 35,
   "id": "83274175-4e0d-4dd8-868f-7b56002444b4",
   "metadata": {},
   "outputs": [
    {
     "name": "stdout",
     "output_type": "stream",
     "text": [
      "45\n",
      "21\n",
      "33\n",
      "67\n"
     ]
    }
   ],
   "source": [
    "for i in 45,21,33,67:\n",
    "    print (i)"
   ]
  },
  {
   "cell_type": "code",
   "execution_count": 36,
   "id": "64c7433d-65ae-4abd-9cd8-e47c1b89dd88",
   "metadata": {},
   "outputs": [
    {
     "name": "stdout",
     "output_type": "stream",
     "text": [
      "2025\n",
      "441\n",
      "1089\n",
      "4489\n"
     ]
    }
   ],
   "source": [
    "for i in 45,21,33,67:\n",
    "    print (i * i)"
   ]
  },
  {
   "cell_type": "code",
   "execution_count": 37,
   "id": "631e6fe7-dd40-4006-abbd-b7ddd54e8a6a",
   "metadata": {},
   "outputs": [
    {
     "name": "stdout",
     "output_type": "stream",
     "text": [
      "Kolkata\n",
      "56\n",
      "Tuks\n",
      "87\n",
      "99\n"
     ]
    }
   ],
   "source": [
    "for i in 'Kolkata', 56, 'Tuks', 87,99:\n",
    "    print (i)"
   ]
  },
  {
   "cell_type": "code",
   "execution_count": 40,
   "id": "468c73a6-f4f4-47f5-8fa3-79fbcf604fd3",
   "metadata": {},
   "outputs": [
    {
     "data": {
      "text/plain": [
       "[0, 1, 2, 3, 4, 5, 6, 7, 8, 9]"
      ]
     },
     "execution_count": 40,
     "metadata": {},
     "output_type": "execute_result"
    }
   ],
   "source": [
    "list(range(10))"
   ]
  },
  {
   "cell_type": "code",
   "execution_count": 42,
   "id": "a193ccba-165a-409e-b447-f45c8131ee48",
   "metadata": {},
   "outputs": [
    {
     "data": {
      "text/plain": [
       "[2, 3, 4, 5, 6, 7, 8, 9]"
      ]
     },
     "execution_count": 42,
     "metadata": {},
     "output_type": "execute_result"
    }
   ],
   "source": [
    "list(range (2,10))"
   ]
  },
  {
   "cell_type": "code",
   "execution_count": 43,
   "id": "d23470b8-7e9d-444a-86a1-92ecb22317df",
   "metadata": {},
   "outputs": [
    {
     "data": {
      "text/plain": [
       "[4, 6, 8, 10, 12, 14]"
      ]
     },
     "execution_count": 43,
     "metadata": {},
     "output_type": "execute_result"
    }
   ],
   "source": [
    "list(range( 4,15,2))"
   ]
  },
  {
   "cell_type": "code",
   "execution_count": 45,
   "id": "0d56345a-a7ec-46b5-8739-697f31e5a225",
   "metadata": {},
   "outputs": [
    {
     "name": "stdout",
     "output_type": "stream",
     "text": [
      "Sushmita\n",
      "Sushmita\n",
      "Sushmita\n",
      "Sushmita\n",
      "Sushmita\n",
      "Sushmita\n",
      "Sushmita\n",
      "Sushmita\n",
      "Sushmita\n",
      "Sushmita\n"
     ]
    }
   ],
   "source": [
    "# Print name for 10 times \n",
    "for n in range (10):\n",
    "    print ('Sushmita')\n"
   ]
  },
  {
   "cell_type": "code",
   "execution_count": 46,
   "id": "db2add25-449e-401f-8567-f223c5745ced",
   "metadata": {},
   "outputs": [
    {
     "name": "stdout",
     "output_type": "stream",
     "text": [
      "Addition is  55\n"
     ]
    }
   ],
   "source": [
    "# Addition of first 10 natural numbers\n",
    "add = 0\n",
    "for n in range (1,11):\n",
    "    add = add + n\n",
    "\n",
    "print ( 'Addition is ', add)\n",
    "    \n",
    "    \n",
    "\n",
    "\n"
   ]
  },
  {
   "cell_type": "code",
   "execution_count": 47,
   "id": "7209bc98-03d2-4165-86c5-995d7256e40b",
   "metadata": {},
   "outputs": [
    {
     "name": "stdout",
     "output_type": "stream",
     "text": [
      "Addition is  100\n"
     ]
    }
   ],
   "source": [
    "# Addition of first 10 odd numbers\n",
    "add =0\n",
    "for n in range (1, 21,2):\n",
    "    add = add + n\n",
    "print ( 'Addition is ' , add)"
   ]
  },
  {
   "cell_type": "markdown",
   "id": "1dd12ab6-24c0-4073-bb0f-0a21664fa5cc",
   "metadata": {},
   "source": [
    "break"
   ]
  },
  {
   "cell_type": "code",
   "execution_count": 51,
   "id": "5b6f6388-6a50-4d6a-87c9-a7342b4eba65",
   "metadata": {},
   "outputs": [
    {
     "name": "stdout",
     "output_type": "stream",
     "text": [
      "0\n",
      "1\n",
      "2\n",
      "3\n",
      "4\n"
     ]
    }
   ],
   "source": [
    "for i in range (10):\n",
    "    if i ==5:\n",
    "       break\n",
    "    print (i)\n"
   ]
  },
  {
   "cell_type": "markdown",
   "id": "673a243a-dfe7-49f2-b3bd-41e39904981a",
   "metadata": {},
   "source": [
    "continue"
   ]
  },
  {
   "cell_type": "code",
   "execution_count": 52,
   "id": "3fa7da63-6dda-4826-883c-43b1196b94d3",
   "metadata": {},
   "outputs": [
    {
     "name": "stdout",
     "output_type": "stream",
     "text": [
      "0\n",
      "1\n",
      "2\n",
      "3\n",
      "4\n",
      "6\n",
      "7\n",
      "8\n",
      "9\n"
     ]
    }
   ],
   "source": [
    "for i in range (10):\n",
    "    if i ==5:\n",
    "       continue\n",
    "    print (i)"
   ]
  },
  {
   "cell_type": "code",
   "execution_count": null,
   "id": "1a639efb-4ec4-478c-a44a-b3a654b8b345",
   "metadata": {},
   "outputs": [],
   "source": []
  }
 ],
 "metadata": {
  "kernelspec": {
   "display_name": "Python 3 (ipykernel)",
   "language": "python",
   "name": "python3"
  },
  "language_info": {
   "codemirror_mode": {
    "name": "ipython",
    "version": 3
   },
   "file_extension": ".py",
   "mimetype": "text/x-python",
   "name": "python",
   "nbconvert_exporter": "python",
   "pygments_lexer": "ipython3",
   "version": "3.11.7"
  }
 },
 "nbformat": 4,
 "nbformat_minor": 5
}
