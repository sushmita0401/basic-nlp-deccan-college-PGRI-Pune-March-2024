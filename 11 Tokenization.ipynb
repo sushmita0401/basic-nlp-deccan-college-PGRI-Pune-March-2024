{
 "cells": [
  {
   "cell_type": "markdown",
   "id": "76d5507f-c6c3-4d3d-bb6e-779da15355a7",
   "metadata": {},
   "source": [
    "#### Setup the system"
   ]
  },
  {
   "cell_type": "code",
   "execution_count": null,
   "id": "41487784-2488-4478-bf35-f5d4b655d064",
   "metadata": {},
   "outputs": [],
   "source": []
  },
  {
   "cell_type": "code",
   "execution_count": 2,
   "id": "40ed6d66-c190-4e8e-a734-3b456c5e1a9d",
   "metadata": {},
   "outputs": [
    {
     "name": "stdout",
     "output_type": "stream",
     "text": [
      "Requirement already satisfied: nltk in c:\\users\\spark\\anaconda\\lib\\site-packages (3.8.1)Note: you may need to restart the kernel to use updated packages.\n",
      "\n",
      "Requirement already satisfied: textblob in c:\\users\\spark\\anaconda\\lib\\site-packages (0.18.0.post0)\n",
      "Requirement already satisfied: spacy in c:\\users\\spark\\anaconda\\lib\\site-packages (3.7.4)\n",
      "Requirement already satisfied: bs4 in c:\\users\\spark\\anaconda\\lib\\site-packages (0.0.2)\n",
      "Requirement already satisfied: click in c:\\users\\spark\\anaconda\\lib\\site-packages (from nltk) (8.1.7)\n",
      "Requirement already satisfied: joblib in c:\\users\\spark\\anaconda\\lib\\site-packages (from nltk) (1.2.0)\n",
      "Requirement already satisfied: regex>=2021.8.3 in c:\\users\\spark\\anaconda\\lib\\site-packages (from nltk) (2023.10.3)\n",
      "Requirement already satisfied: tqdm in c:\\users\\spark\\anaconda\\lib\\site-packages (from nltk) (4.65.0)\n",
      "Requirement already satisfied: spacy-legacy<3.1.0,>=3.0.11 in c:\\users\\spark\\anaconda\\lib\\site-packages (from spacy) (3.0.12)\n",
      "Requirement already satisfied: spacy-loggers<2.0.0,>=1.0.0 in c:\\users\\spark\\anaconda\\lib\\site-packages (from spacy) (1.0.5)\n",
      "Requirement already satisfied: murmurhash<1.1.0,>=0.28.0 in c:\\users\\spark\\anaconda\\lib\\site-packages (from spacy) (1.0.10)\n",
      "Requirement already satisfied: cymem<2.1.0,>=2.0.2 in c:\\users\\spark\\anaconda\\lib\\site-packages (from spacy) (2.0.8)\n",
      "Requirement already satisfied: preshed<3.1.0,>=3.0.2 in c:\\users\\spark\\anaconda\\lib\\site-packages (from spacy) (3.0.9)\n",
      "Requirement already satisfied: thinc<8.3.0,>=8.2.2 in c:\\users\\spark\\anaconda\\lib\\site-packages (from spacy) (8.2.3)\n",
      "Requirement already satisfied: wasabi<1.2.0,>=0.9.1 in c:\\users\\spark\\anaconda\\lib\\site-packages (from spacy) (1.1.2)\n",
      "Requirement already satisfied: srsly<3.0.0,>=2.4.3 in c:\\users\\spark\\anaconda\\lib\\site-packages (from spacy) (2.4.8)\n",
      "Requirement already satisfied: catalogue<2.1.0,>=2.0.6 in c:\\users\\spark\\anaconda\\lib\\site-packages (from spacy) (2.0.10)\n",
      "Requirement already satisfied: weasel<0.4.0,>=0.1.0 in c:\\users\\spark\\anaconda\\lib\\site-packages (from spacy) (0.3.4)\n",
      "Requirement already satisfied: typer<0.10.0,>=0.3.0 in c:\\users\\spark\\anaconda\\lib\\site-packages (from spacy) (0.9.4)\n",
      "Requirement already satisfied: smart-open<7.0.0,>=5.2.1 in c:\\users\\spark\\anaconda\\lib\\site-packages (from spacy) (5.2.1)\n",
      "Requirement already satisfied: requests<3.0.0,>=2.13.0 in c:\\users\\spark\\anaconda\\lib\\site-packages (from spacy) (2.31.0)\n",
      "Requirement already satisfied: pydantic!=1.8,!=1.8.1,<3.0.0,>=1.7.4 in c:\\users\\spark\\anaconda\\lib\\site-packages (from spacy) (1.10.12)\n",
      "Requirement already satisfied: jinja2 in c:\\users\\spark\\anaconda\\lib\\site-packages (from spacy) (3.1.3)\n",
      "Requirement already satisfied: setuptools in c:\\users\\spark\\anaconda\\lib\\site-packages (from spacy) (68.2.2)\n",
      "Requirement already satisfied: packaging>=20.0 in c:\\users\\spark\\anaconda\\lib\\site-packages (from spacy) (23.1)\n",
      "Requirement already satisfied: langcodes<4.0.0,>=3.2.0 in c:\\users\\spark\\anaconda\\lib\\site-packages (from spacy) (3.3.0)\n",
      "Requirement already satisfied: numpy>=1.19.0 in c:\\users\\spark\\anaconda\\lib\\site-packages (from spacy) (1.26.4)\n",
      "Requirement already satisfied: beautifulsoup4 in c:\\users\\spark\\anaconda\\lib\\site-packages (from bs4) (4.12.2)\n",
      "Requirement already satisfied: typing-extensions>=4.2.0 in c:\\users\\spark\\anaconda\\lib\\site-packages (from pydantic!=1.8,!=1.8.1,<3.0.0,>=1.7.4->spacy) (4.9.0)\n",
      "Requirement already satisfied: charset-normalizer<4,>=2 in c:\\users\\spark\\anaconda\\lib\\site-packages (from requests<3.0.0,>=2.13.0->spacy) (2.0.4)\n",
      "Requirement already satisfied: idna<4,>=2.5 in c:\\users\\spark\\anaconda\\lib\\site-packages (from requests<3.0.0,>=2.13.0->spacy) (3.4)\n",
      "Requirement already satisfied: urllib3<3,>=1.21.1 in c:\\users\\spark\\anaconda\\lib\\site-packages (from requests<3.0.0,>=2.13.0->spacy) (2.0.7)\n",
      "Requirement already satisfied: certifi>=2017.4.17 in c:\\users\\spark\\anaconda\\lib\\site-packages (from requests<3.0.0,>=2.13.0->spacy) (2024.2.2)\n",
      "Requirement already satisfied: blis<0.8.0,>=0.7.8 in c:\\users\\spark\\anaconda\\lib\\site-packages (from thinc<8.3.0,>=8.2.2->spacy) (0.7.11)\n",
      "Requirement already satisfied: confection<1.0.0,>=0.0.1 in c:\\users\\spark\\anaconda\\lib\\site-packages (from thinc<8.3.0,>=8.2.2->spacy) (0.1.4)\n",
      "Requirement already satisfied: colorama in c:\\users\\spark\\anaconda\\lib\\site-packages (from tqdm->nltk) (0.4.6)\n",
      "Requirement already satisfied: cloudpathlib<0.17.0,>=0.7.0 in c:\\users\\spark\\anaconda\\lib\\site-packages (from weasel<0.4.0,>=0.1.0->spacy) (0.16.0)\n",
      "Requirement already satisfied: soupsieve>1.2 in c:\\users\\spark\\anaconda\\lib\\site-packages (from beautifulsoup4->bs4) (2.5)\n",
      "Requirement already satisfied: MarkupSafe>=2.0 in c:\\users\\spark\\anaconda\\lib\\site-packages (from jinja2->spacy) (2.1.3)\n"
     ]
    }
   ],
   "source": [
    "pip install nltk textblob spacy bs4\n"
   ]
  },
  {
   "cell_type": "code",
   "execution_count": 3,
   "id": "60b5ebeb-6666-47a0-935e-0fea7fb4e073",
   "metadata": {},
   "outputs": [],
   "source": [
    "import nltk"
   ]
  },
  {
   "cell_type": "code",
   "execution_count": 4,
   "id": "bc1322ac-d41f-428d-8c84-1ca8de2fc0e3",
   "metadata": {},
   "outputs": [
    {
     "name": "stderr",
     "output_type": "stream",
     "text": [
      "[nltk_data] Downloading package punkt to\n",
      "[nltk_data]     C:\\Users\\spark\\AppData\\Roaming\\nltk_data...\n",
      "[nltk_data]   Unzipping tokenizers\\punkt.zip.\n",
      "[nltk_data] Downloading package averaged_perceptron_tagger to\n",
      "[nltk_data]     C:\\Users\\spark\\AppData\\Roaming\\nltk_data...\n",
      "[nltk_data]   Unzipping taggers\\averaged_perceptron_tagger.zip.\n",
      "[nltk_data] Downloading package stopwords to\n",
      "[nltk_data]     C:\\Users\\spark\\AppData\\Roaming\\nltk_data...\n",
      "[nltk_data]   Unzipping corpora\\stopwords.zip.\n",
      "[nltk_data] Downloading package wordnet to\n",
      "[nltk_data]     C:\\Users\\spark\\AppData\\Roaming\\nltk_data...\n",
      "[nltk_data] Downloading package indian to\n",
      "[nltk_data]     C:\\Users\\spark\\AppData\\Roaming\\nltk_data...\n",
      "[nltk_data]   Unzipping corpora\\indian.zip.\n",
      "[nltk_data] Downloading package omw-1.4 to\n",
      "[nltk_data]     C:\\Users\\spark\\AppData\\Roaming\\nltk_data...\n"
     ]
    },
    {
     "data": {
      "text/plain": [
       "True"
      ]
     },
     "execution_count": 4,
     "metadata": {},
     "output_type": "execute_result"
    }
   ],
   "source": [
    "nltk.download('punkt')\n",
    "nltk.download('averaged_perceptron_tagger')\n",
    "nltk.download('stopwords')\n",
    "nltk.download('wordnet')\n",
    "nltk.download('indian')\n",
    "nltk.download('omw-1.4')"
   ]
  },
  {
   "cell_type": "code",
   "execution_count": 5,
   "id": "09242913-2ff1-4dd2-8d15-33570759ee76",
   "metadata": {},
   "outputs": [],
   "source": [
    "sent = 'They told that their ages are 23 25 and 29 respectively.'"
   ]
  },
  {
   "cell_type": "code",
   "execution_count": 6,
   "id": "4a6c8204-3801-4bb3-9094-00d078d59f74",
   "metadata": {},
   "outputs": [],
   "source": [
    "# Problem: Find the average of ages mentioned in the sentence."
   ]
  },
  {
   "cell_type": "code",
   "execution_count": 7,
   "id": "76859182-fe9b-4759-9f5a-79c1836c172b",
   "metadata": {},
   "outputs": [
    {
     "data": {
      "text/plain": [
       "['They',\n",
       " 'told',\n",
       " 'that',\n",
       " 'their',\n",
       " 'ages',\n",
       " 'are',\n",
       " '23',\n",
       " '25',\n",
       " 'and',\n",
       " '29',\n",
       " 'respectively.']"
      ]
     },
     "execution_count": 7,
     "metadata": {},
     "output_type": "execute_result"
    }
   ],
   "source": [
    "sent.split()"
   ]
  },
  {
   "cell_type": "code",
   "execution_count": 9,
   "id": "1ac5b153-bf18-4970-be8c-36357b7538da",
   "metadata": {},
   "outputs": [
    {
     "data": {
      "text/plain": [
       "True"
      ]
     },
     "execution_count": 9,
     "metadata": {},
     "output_type": "execute_result"
    }
   ],
   "source": [
    "num = '45'\n",
    "num.isdigit()"
   ]
  },
  {
   "cell_type": "code",
   "execution_count": 13,
   "id": "58a07822-d54a-4773-9db5-fbcc511b41e7",
   "metadata": {},
   "outputs": [
    {
     "name": "stdout",
     "output_type": "stream",
     "text": [
      "23\n",
      "25\n",
      "29\n"
     ]
    }
   ],
   "source": [
    "for word in sent.split():\n",
    "    if word.isdigit():\n",
    "        print(word)"
   ]
  },
  {
   "cell_type": "code",
   "execution_count": 14,
   "id": "52b0c3a2-f825-4471-aac5-5f181fd1003c",
   "metadata": {},
   "outputs": [],
   "source": [
    "num = []\n",
    "for word in sent.split():\n",
    "    if word.isdigit():\n",
    "        num.append(int(word))"
   ]
  },
  {
   "cell_type": "code",
   "execution_count": 15,
   "id": "11ddf77c-b22d-4322-a0c4-d9938b9f674c",
   "metadata": {},
   "outputs": [
    {
     "data": {
      "text/plain": [
       "[23, 25, 29]"
      ]
     },
     "execution_count": 15,
     "metadata": {},
     "output_type": "execute_result"
    }
   ],
   "source": [
    "num"
   ]
  },
  {
   "cell_type": "code",
   "execution_count": 16,
   "id": "9fbda872-3451-4444-b83c-ceadcf748a25",
   "metadata": {},
   "outputs": [
    {
     "data": {
      "text/plain": [
       "25.666666666666668"
      ]
     },
     "execution_count": 16,
     "metadata": {},
     "output_type": "execute_result"
    }
   ],
   "source": [
    "sum(num)/len(num)"
   ]
  },
  {
   "cell_type": "markdown",
   "id": "e3939f92-fe03-4940-86a3-979dbf28d628",
   "metadata": {},
   "source": [
    "##### Tokenization"
   ]
  },
  {
   "cell_type": "code",
   "execution_count": 30,
   "id": "b55d072f-b137-4b1e-b0b8-41635e671e4a",
   "metadata": {},
   "outputs": [],
   "source": [
    "sent = 'Hello friends! How are you? Welcome to the world of Python Programming.'"
   ]
  },
  {
   "cell_type": "code",
   "execution_count": 33,
   "id": "bb88b6c1-907f-413f-8aae-ebe61917e7ae",
   "metadata": {},
   "outputs": [],
   "source": [
    "# import the functions\n",
    "from nltk.tokenize import sent_tokenize, word_tokenize"
   ]
  },
  {
   "cell_type": "code",
   "execution_count": 34,
   "id": "9d911987-4572-4cbc-9c99-54f156a7344f",
   "metadata": {},
   "outputs": [
    {
     "data": {
      "text/plain": [
       "['Hello friends!',\n",
       " 'How are you?',\n",
       " 'Welcome to the world of Python Programming.']"
      ]
     },
     "execution_count": 34,
     "metadata": {},
     "output_type": "execute_result"
    }
   ],
   "source": [
    "sent_tokenize(sent)"
   ]
  },
  {
   "cell_type": "code",
   "execution_count": 35,
   "id": "507a0e52-72f7-4a39-b4bf-7644bbe7ae3b",
   "metadata": {},
   "outputs": [
    {
     "data": {
      "text/plain": [
       "['Hello',\n",
       " 'friends',\n",
       " '!',\n",
       " 'How',\n",
       " 'are',\n",
       " 'you',\n",
       " '?',\n",
       " 'Welcome',\n",
       " 'to',\n",
       " 'the',\n",
       " 'world',\n",
       " 'of',\n",
       " 'Python',\n",
       " 'Programming',\n",
       " '.']"
      ]
     },
     "execution_count": 35,
     "metadata": {},
     "output_type": "execute_result"
    }
   ],
   "source": [
    "word_tokenize(sent)"
   ]
  },
  {
   "cell_type": "code",
   "execution_count": 2,
   "id": "a7f3a29d-d927-43cd-b879-2d1dd39b2ed3",
   "metadata": {},
   "outputs": [],
   "source": [
    "text = '''কলকাতা বা কোলকাতা ([kolkata] (শুনুনⓘ)), পূর্বনাম কলিকাতা, হল পশ্চিমবঙ্গের রাজধানী ও বৃহত্তম শহর এবং ভারতের সাংস্কৃতিক রাজধানী। কলকাতা শহরটি হুগলি নদীর পূর্ব পাড়ে অবস্থিত। এই শহর পূর্ব ভারতের শিক্ষা, অর্থনীতি ও সংস্কৃতির প্রধান কেন্দ্র। দক্ষিণ এশিয়ায় কলকাতা তৃতীয় বৃহৎ অর্থনীতির শহর। কলকাতা বন্দর ভারতের প্রাচীনতম সচল বন্দর তথা দেশের প্রধান নদী বন্দর। ২০১১ সালের জনগণনা অনুসারে, কলকাতার জনসংখ্যা ৪,৪৯৬,৬৯৪। জনসংখ্যার হিসেবে এটি ভারতের ৭ম সর্বাধিক জনবহুল পৌর-এলাকা। অন্যদিকে বৃহত্তর কলকাতার জনসংখ্যা ১৪,১১২,৫৩৬। জনসংখ্যার হিসেবে বৃহত্তর কলকাতা ভারতের ৩য় সর্বাধিক জনবহুল মহানগরীয় অঞ্চল। বৃহত্তর কলকাতার সাম্প্রতিক অর্থনৈতিক সূচক (আনুমানিক)$২৬৪ বিলিয়ন মার্কিন ডলারের মধ্যবর্তী (ক্রয়ক্ষমতা সমতার সঙ্গে সামঞ্জস্যপূর্ণ জিডিপি অনুযায়ী)। এই সূচক অনুযায়ী ভারতে কলকাতার স্থান মুম্বই ও নতুন দিল্লির ঠিক পর তৃতীয় বৃহৎ অর্থনীতির শহর।[১৩][১০][১১]'''"
   ]
  },
  {
   "cell_type": "code",
   "execution_count": 3,
   "id": "df7d154f-2049-4f6c-be24-19038493701a",
   "metadata": {},
   "outputs": [
    {
     "data": {
      "text/plain": [
       "'কলকাতা বা কোলকাতা ([kolkata] (শুনুনⓘ)), পূর্বনাম কলিকাতা, হল পশ্চিমবঙ্গের রাজধানী ও বৃহত্তম শহর এবং ভারতের সাংস্কৃতিক রাজধানী। কলকাতা শহরটি হুগলি নদীর পূর্ব পাড়ে অবস্থিত। এই শহর পূর্ব ভারতের শিক্ষা, অর্থনীতি ও সংস্কৃতির প্রধান কেন্দ্র। দক্ষিণ এশিয়ায় কলকাতা তৃতীয় বৃহৎ অর্থনীতির শহর। কলকাতা বন্দর ভারতের প্রাচীনতম সচল বন্দর তথা দেশের প্রধান নদী বন্দর। ২০১১ সালের জনগণনা অনুসারে, কলকাতার জনসংখ্যা ৪,৪৯৬,৬৯৪। জনসংখ্যার হিসেবে এটি ভারতের ৭ম সর্বাধিক জনবহুল পৌর-এলাকা। অন্যদিকে বৃহত্তর কলকাতার জনসংখ্যা ১৪,১১২,৫৩৬। জনসংখ্যার হিসেবে বৃহত্তর কলকাতা ভারতের ৩য় সর্বাধিক জনবহুল মহানগরীয় অঞ্চল। বৃহত্তর কলকাতার সাম্প্রতিক অর্থনৈতিক সূচক (আনুমানিক)$২৬৪ বিলিয়ন মার্কিন ডলারের মধ্যবর্তী (ক্রয়ক্ষমতা সমতার সঙ্গে সামঞ্জস্যপূর্ণ জিডিপি অনুযায়ী)। এই সূচক অনুযায়ী ভারতে কলকাতার স্থান মুম্বই ও নতুন দিল্লির ঠিক পর তৃতীয় বৃহৎ অর্থনীতির শহর।[১৩][১০][১১]'"
      ]
     },
     "execution_count": 3,
     "metadata": {},
     "output_type": "execute_result"
    }
   ],
   "source": [
    "text"
   ]
  },
  {
   "cell_type": "code",
   "execution_count": 26,
   "id": "d0277c82-67ed-4751-9e2e-d3067a2db9a7",
   "metadata": {},
   "outputs": [],
   "source": [
    "#import the class\n",
    "from nltk.tokenize import sent_tokenize,word_tokenize"
   ]
  },
  {
   "cell_type": "code",
   "execution_count": 27,
   "id": "77cf59f9-1c1e-476a-a4d8-f370cacec30e",
   "metadata": {},
   "outputs": [
    {
     "data": {
      "text/plain": [
       "['কলকাতা বা কোলকাতা ([kolkata] (শুনুনⓘ)), পূর্বনাম কলিকাতা, হল পশ্চিমবঙ্গের রাজধানী ও বৃহত্তম শহর এবং ভারতের সাংস্কৃতিক রাজধানী। কলকাতা শহরটি হুগলি নদীর পূর্ব পাড়ে অবস্থিত। এই শহর পূর্ব ভারতের শিক্ষা, অর্থনীতি ও সংস্কৃতির প্রধান কেন্দ্র। দক্ষিণ এশিয়ায় কলকাতা তৃতীয় বৃহৎ অর্থনীতির শহর। কলকাতা বন্দর ভারতের প্রাচীনতম সচল বন্দর তথা দেশের প্রধান নদী বন্দর। ২০১১ সালের জনগণনা অনুসারে, কলকাতার জনসংখ্যা ৪,৪৯৬,৬৯৪। জনসংখ্যার হিসেবে এটি ভারতের ৭ম সর্বাধিক জনবহুল পৌর-এলাকা। অন্যদিকে বৃহত্তর কলকাতার জনসংখ্যা ১৪,১১২,৫৩৬। জনসংখ্যার হিসেবে বৃহত্তর কলকাতা ভারতের ৩য় সর্বাধিক জনবহুল মহানগরীয় অঞ্চল। বৃহত্তর কলকাতার সাম্প্রতিক অর্থনৈতিক সূচক (আনুমানিক)$২৬৪ বিলিয়ন মার্কিন ডলারের মধ্যবর্তী (ক্রয়ক্ষমতা সমতার সঙ্গে সামঞ্জস্যপূর্ণ জিডিপি অনুযায়ী)। এই সূচক অনুযায়ী ভারতে কলকাতার স্থান মুম্বই ও নতুন দিল্লির ঠিক পর তৃতীয় বৃহৎ অর্থনীতির শহর।[১৩][১০][১১]']"
      ]
     },
     "execution_count": 27,
     "metadata": {},
     "output_type": "execute_result"
    }
   ],
   "source": [
    "sent_tokenize(text)"
   ]
  },
  {
   "cell_type": "code",
   "execution_count": 28,
   "id": "aca7cb4a-1cde-4799-8600-bf1fcef3c6ee",
   "metadata": {},
   "outputs": [
    {
     "data": {
      "text/plain": [
       "['কলকাতা',\n",
       " 'বা',\n",
       " 'কোলকাতা',\n",
       " '(',\n",
       " '[',\n",
       " 'kolkata',\n",
       " ']',\n",
       " '(',\n",
       " 'শুনুনⓘ',\n",
       " ')',\n",
       " ')',\n",
       " ',',\n",
       " 'পূর্বনাম',\n",
       " 'কলিকাতা',\n",
       " ',',\n",
       " 'হল',\n",
       " 'পশ্চিমবঙ্গের',\n",
       " 'রাজধানী',\n",
       " 'ও',\n",
       " 'বৃহত্তম',\n",
       " 'শহর',\n",
       " 'এবং',\n",
       " 'ভারতের',\n",
       " 'সাংস্কৃতিক',\n",
       " 'রাজধানী।',\n",
       " 'কলকাতা',\n",
       " 'শহরটি',\n",
       " 'হুগলি',\n",
       " 'নদীর',\n",
       " 'পূর্ব',\n",
       " 'পাড়ে',\n",
       " 'অবস্থিত।',\n",
       " 'এই',\n",
       " 'শহর',\n",
       " 'পূর্ব',\n",
       " 'ভারতের',\n",
       " 'শিক্ষা',\n",
       " ',',\n",
       " 'অর্থনীতি',\n",
       " 'ও',\n",
       " 'সংস্কৃতির',\n",
       " 'প্রধান',\n",
       " 'কেন্দ্র।',\n",
       " 'দক্ষিণ',\n",
       " 'এশিয়ায়',\n",
       " 'কলকাতা',\n",
       " 'তৃতীয়',\n",
       " 'বৃহৎ',\n",
       " 'অর্থনীতির',\n",
       " 'শহর।',\n",
       " 'কলকাতা',\n",
       " 'বন্দর',\n",
       " 'ভারতের',\n",
       " 'প্রাচীনতম',\n",
       " 'সচল',\n",
       " 'বন্দর',\n",
       " 'তথা',\n",
       " 'দেশের',\n",
       " 'প্রধান',\n",
       " 'নদী',\n",
       " 'বন্দর।',\n",
       " '২০১১',\n",
       " 'সালের',\n",
       " 'জনগণনা',\n",
       " 'অনুসারে',\n",
       " ',',\n",
       " 'কলকাতার',\n",
       " 'জনসংখ্যা',\n",
       " '৪,৪৯৬,৬৯৪।',\n",
       " 'জনসংখ্যার',\n",
       " 'হিসেবে',\n",
       " 'এটি',\n",
       " 'ভারতের',\n",
       " '৭ম',\n",
       " 'সর্বাধিক',\n",
       " 'জনবহুল',\n",
       " 'পৌর-এলাকা।',\n",
       " 'অন্যদিকে',\n",
       " 'বৃহত্তর',\n",
       " 'কলকাতার',\n",
       " 'জনসংখ্যা',\n",
       " '১৪,১১২,৫৩৬।',\n",
       " 'জনসংখ্যার',\n",
       " 'হিসেবে',\n",
       " 'বৃহত্তর',\n",
       " 'কলকাতা',\n",
       " 'ভারতের',\n",
       " '৩য়',\n",
       " 'সর্বাধিক',\n",
       " 'জনবহুল',\n",
       " 'মহানগরীয়',\n",
       " 'অঞ্চল।',\n",
       " 'বৃহত্তর',\n",
       " 'কলকাতার',\n",
       " 'সাম্প্রতিক',\n",
       " 'অর্থনৈতিক',\n",
       " 'সূচক',\n",
       " '(',\n",
       " 'আনুমানিক',\n",
       " ')',\n",
       " '$',\n",
       " '২৬৪',\n",
       " 'বিলিয়ন',\n",
       " 'মার্কিন',\n",
       " 'ডলারের',\n",
       " 'মধ্যবর্তী',\n",
       " '(',\n",
       " 'ক্রয়ক্ষমতা',\n",
       " 'সমতার',\n",
       " 'সঙ্গে',\n",
       " 'সামঞ্জস্যপূর্ণ',\n",
       " 'জিডিপি',\n",
       " 'অনুযায়ী',\n",
       " ')',\n",
       " '।',\n",
       " 'এই',\n",
       " 'সূচক',\n",
       " 'অনুযায়ী',\n",
       " 'ভারতে',\n",
       " 'কলকাতার',\n",
       " 'স্থান',\n",
       " 'মুম্বই',\n",
       " 'ও',\n",
       " 'নতুন',\n",
       " 'দিল্লির',\n",
       " 'ঠিক',\n",
       " 'পর',\n",
       " 'তৃতীয়',\n",
       " 'বৃহৎ',\n",
       " 'অর্থনীতির',\n",
       " 'শহর।',\n",
       " '[',\n",
       " '১৩',\n",
       " ']',\n",
       " '[',\n",
       " '১০',\n",
       " ']',\n",
       " '[',\n",
       " '১১',\n",
       " ']']"
      ]
     },
     "execution_count": 28,
     "metadata": {},
     "output_type": "execute_result"
    }
   ],
   "source": [
    "word_tokenize(text)"
   ]
  },
  {
   "cell_type": "markdown",
   "id": "b43994f9-297e-45d8-bf69-00a9db19d935",
   "metadata": {},
   "source": [
    "##### Space Tokenize"
   ]
  },
  {
   "cell_type": "code",
   "execution_count": 25,
   "id": "30420bf6-7665-4e30-aaed-daeb1a464e51",
   "metadata": {},
   "outputs": [],
   "source": [
    "# import the class\n",
    "from nltk.tokenize import SpaceTokenizer"
   ]
  },
  {
   "cell_type": "code",
   "execution_count": 12,
   "id": "7e3e9a4c-c73b-4fd8-81f7-ebf2c4c4f694",
   "metadata": {},
   "outputs": [],
   "source": [
    "# create the object\n",
    "tk = SpaceTokenizer()"
   ]
  },
  {
   "cell_type": "code",
   "execution_count": 14,
   "id": "196be251-67b8-468d-9ff5-01011b0221b9",
   "metadata": {},
   "outputs": [],
   "source": [
    "sent = 'Hello friends! How are you? Welcome to the world of Python Programming.'"
   ]
  },
  {
   "cell_type": "code",
   "execution_count": 15,
   "id": "e9c31324-7178-47f1-945a-ce1fc734468a",
   "metadata": {},
   "outputs": [
    {
     "data": {
      "text/plain": [
       "['Hello',\n",
       " 'friends!',\n",
       " 'How',\n",
       " 'are',\n",
       " 'you?',\n",
       " 'Welcome',\n",
       " 'to',\n",
       " 'the',\n",
       " 'world',\n",
       " 'of',\n",
       " 'Python',\n",
       " 'Programming.']"
      ]
     },
     "execution_count": 15,
     "metadata": {},
     "output_type": "execute_result"
    }
   ],
   "source": [
    "tk.tokenize(sent)"
   ]
  },
  {
   "cell_type": "markdown",
   "id": "4c96b72b-4dfe-45c7-896d-32928d2271ca",
   "metadata": {},
   "source": [
    "#### Tab Tokenizer"
   ]
  },
  {
   "cell_type": "code",
   "execution_count": 4,
   "id": "058375c8-4920-4a56-bbcb-fef0eac81de2",
   "metadata": {},
   "outputs": [],
   "source": [
    "# import the class\n",
    "from nltk.tokenize import TabTokenizer"
   ]
  },
  {
   "cell_type": "code",
   "execution_count": 5,
   "id": "aebdc1ab-db64-4ec2-9df1-f49a513ebd51",
   "metadata": {},
   "outputs": [],
   "source": [
    "# create the object\n",
    "tk = TabTokenizer()"
   ]
  },
  {
   "cell_type": "code",
   "execution_count": 6,
   "id": "26092440-fd3a-4c29-b306-1965da0ef334",
   "metadata": {},
   "outputs": [],
   "source": [
    "sent = 'Hello friends!\\tHow are you? Welcome to the world of Python Programming.'"
   ]
  },
  {
   "cell_type": "code",
   "execution_count": 7,
   "id": "5803a4c9-9602-4382-ab94-ad6a83ed2918",
   "metadata": {},
   "outputs": [
    {
     "name": "stdout",
     "output_type": "stream",
     "text": [
      "Hello friends!\tHow are you? Welcome to the world of Python Programming.\n"
     ]
    }
   ],
   "source": [
    "print(sent)"
   ]
  },
  {
   "cell_type": "code",
   "execution_count": 8,
   "id": "58d48c73-24f4-4203-abeb-4468336d23c5",
   "metadata": {},
   "outputs": [
    {
     "data": {
      "text/plain": [
       "['Hello friends!', 'How are you? Welcome to the world of Python Programming.']"
      ]
     },
     "execution_count": 8,
     "metadata": {},
     "output_type": "execute_result"
    }
   ],
   "source": [
    "tk.tokenize(sent)"
   ]
  },
  {
   "cell_type": "markdown",
   "id": "ccea113e-874f-4fc9-99ab-d23a94960aa9",
   "metadata": {},
   "source": [
    "#### Line Tokenizer"
   ]
  },
  {
   "cell_type": "code",
   "execution_count": 35,
   "id": "a999678d-2457-4af8-aded-a3e0c58932f3",
   "metadata": {},
   "outputs": [],
   "source": [
    "# import the class\n",
    "from nltk.tokenize import LineTokenizer"
   ]
  },
  {
   "cell_type": "code",
   "execution_count": 36,
   "id": "8188b585-0afe-4f01-98ce-98b53b7ab87f",
   "metadata": {},
   "outputs": [],
   "source": [
    "tk = LineTokenizer()"
   ]
  },
  {
   "cell_type": "code",
   "execution_count": 39,
   "id": "b781f78b-e9fa-4482-afdb-be30fe54c2ab",
   "metadata": {},
   "outputs": [
    {
     "name": "stdout",
     "output_type": "stream",
     "text": [
      "Hello friends!\n",
      " How are you?\n",
      " Welcome to the world of Python Programming.\n"
     ]
    }
   ],
   "source": [
    "sent =  'Hello friends!\\n How are you?\\n Welcome to the world of Python Programming.'\n",
    "print(sent)"
   ]
  },
  {
   "cell_type": "code",
   "execution_count": 40,
   "id": "da4e85c3-a3fb-435f-bd85-f33a19a1cdbc",
   "metadata": {},
   "outputs": [
    {
     "data": {
      "text/plain": [
       "['Hello friends!',\n",
       " ' How are you?',\n",
       " ' Welcome to the world of Python Programming.']"
      ]
     },
     "execution_count": 40,
     "metadata": {},
     "output_type": "execute_result"
    }
   ],
   "source": [
    "tk.tokenize(sent)"
   ]
  },
  {
   "cell_type": "markdown",
   "id": "044f413c-e8e0-4df9-b383-aa8c7b2b23ab",
   "metadata": {},
   "source": [
    "#### White Space Tokenizer"
   ]
  },
  {
   "cell_type": "code",
   "execution_count": 42,
   "id": "0f741b00-27fa-4aa2-8c87-0d50de750fcb",
   "metadata": {},
   "outputs": [],
   "source": [
    "# import the class\n",
    "from nltk.tokenize import WhitespaceTokenizer"
   ]
  },
  {
   "cell_type": "code",
   "execution_count": 43,
   "id": "eecf26f6-cf44-47e9-8d0f-2c4c93b795cd",
   "metadata": {},
   "outputs": [],
   "source": [
    "tk = WhitespaceTokenizer()"
   ]
  },
  {
   "cell_type": "code",
   "execution_count": 44,
   "id": "c1a3b357-3c17-4292-abcf-f4004d3fac03",
   "metadata": {},
   "outputs": [
    {
     "name": "stdout",
     "output_type": "stream",
     "text": [
      "Hello friends!\t How are you?\n",
      " Welcome to the world of Python Programming.\n"
     ]
    }
   ],
   "source": [
    "sent =  'Hello friends!\\t How are you?\\n Welcome to the world of Python Programming.'\n",
    "print (sent)"
   ]
  },
  {
   "cell_type": "code",
   "execution_count": 45,
   "id": "4913a5cb-d232-4e47-845c-3366c86b2f9e",
   "metadata": {},
   "outputs": [
    {
     "data": {
      "text/plain": [
       "['Hello',\n",
       " 'friends!',\n",
       " 'How',\n",
       " 'are',\n",
       " 'you?',\n",
       " 'Welcome',\n",
       " 'to',\n",
       " 'the',\n",
       " 'world',\n",
       " 'of',\n",
       " 'Python',\n",
       " 'Programming.']"
      ]
     },
     "execution_count": 45,
     "metadata": {},
     "output_type": "execute_result"
    }
   ],
   "source": [
    "tk.tokenize(sent)"
   ]
  },
  {
   "cell_type": "markdown",
   "id": "74ba7bfa-c3f2-4745-a4fc-6fe7785de3f1",
   "metadata": {},
   "source": [
    "#### Multi-Word Expression Tokenizer"
   ]
  },
  {
   "cell_type": "code",
   "execution_count": 46,
   "id": "bec8059a-df40-4e01-9a7b-6e8f762b7e3e",
   "metadata": {},
   "outputs": [],
   "source": [
    "sent = 'Hello friends! Have you learned Python Programming? Do you like coding in Python?'"
   ]
  },
  {
   "cell_type": "code",
   "execution_count": 47,
   "id": "69969fc7-3b2f-4e00-a78d-d4aed0125aee",
   "metadata": {},
   "outputs": [
    {
     "data": {
      "text/plain": [
       "'Hello friends! Have you learned Python Programming? Do you like coding in Python?'"
      ]
     },
     "execution_count": 47,
     "metadata": {},
     "output_type": "execute_result"
    }
   ],
   "source": [
    "sent"
   ]
  },
  {
   "cell_type": "code",
   "execution_count": 49,
   "id": "133fdea9-b0ab-4dd6-aa21-315c37e6cd87",
   "metadata": {},
   "outputs": [
    {
     "data": {
      "text/plain": [
       "['Hello',\n",
       " 'friends',\n",
       " '!',\n",
       " 'Have',\n",
       " 'you',\n",
       " 'learned',\n",
       " 'Python',\n",
       " 'Programming',\n",
       " '?',\n",
       " 'Do',\n",
       " 'you',\n",
       " 'like',\n",
       " 'coding',\n",
       " 'in',\n",
       " 'Python',\n",
       " '?']"
      ]
     },
     "execution_count": 49,
     "metadata": {},
     "output_type": "execute_result"
    }
   ],
   "source": [
    "word_tokenize(sent)"
   ]
  },
  {
   "cell_type": "code",
   "execution_count": 50,
   "id": "b56aa821-c535-49b1-ac24-eed493bbf3be",
   "metadata": {},
   "outputs": [],
   "source": [
    "from nltk.tokenize import MWETokenizer"
   ]
  },
  {
   "cell_type": "code",
   "execution_count": 56,
   "id": "37bb0d1d-cb72-4800-9c5b-1778b91263c1",
   "metadata": {},
   "outputs": [],
   "source": [
    "tk = MWETokenizer(separator = ' ')"
   ]
  },
  {
   "cell_type": "code",
   "execution_count": 57,
   "id": "afd613a0-d333-4edc-b22b-2acc27134568",
   "metadata": {},
   "outputs": [],
   "source": [
    "tk.add_mwe(('Python','Programming'))\n"
   ]
  },
  {
   "cell_type": "code",
   "execution_count": 58,
   "id": "c2350609-0f5b-495d-922c-6c6231369cca",
   "metadata": {},
   "outputs": [
    {
     "data": {
      "text/plain": [
       "['Hello',\n",
       " 'friends',\n",
       " '!',\n",
       " 'Have',\n",
       " 'you',\n",
       " 'learned',\n",
       " 'Python Programming',\n",
       " '?',\n",
       " 'Do',\n",
       " 'you',\n",
       " 'like',\n",
       " 'coding',\n",
       " 'in',\n",
       " 'Python',\n",
       " '?']"
      ]
     },
     "execution_count": 58,
     "metadata": {},
     "output_type": "execute_result"
    }
   ],
   "source": [
    "tk.tokenize(word_tokenize(sent))"
   ]
  },
  {
   "cell_type": "markdown",
   "id": "913446d5-b2c9-432a-97f6-b1849a890a44",
   "metadata": {},
   "source": [
    "#### Tweet Tokenizer"
   ]
  },
  {
   "cell_type": "code",
   "execution_count": 64,
   "id": "cd069931-1e37-494c-91ce-309a97ccb111",
   "metadata": {},
   "outputs": [
    {
     "name": "stdout",
     "output_type": "stream",
     "text": [
      "😉Hello friends!🙂🙃 Have you learned Python Programming?🫠🫠🫠 Do you like coding in Python?😉😉😉\n"
     ]
    }
   ],
   "source": [
    "sent = '😉Hello friends!🙂🙃 Have you learned Python Programming?🫠🫠🫠 Do you like coding in Python?😉😉😉'\n",
    "print(sent)"
   ]
  },
  {
   "cell_type": "code",
   "execution_count": 65,
   "id": "b698bf03-7a53-4e72-9561-09fc6427637a",
   "metadata": {},
   "outputs": [
    {
     "data": {
      "text/plain": [
       "['😉Hello friends!🙂🙃 Have you learned Python Programming?🫠🫠🫠 Do you like coding in Python?😉😉😉']"
      ]
     },
     "execution_count": 65,
     "metadata": {},
     "output_type": "execute_result"
    }
   ],
   "source": [
    "sent_tokenize(sent)"
   ]
  },
  {
   "cell_type": "code",
   "execution_count": 67,
   "id": "02732086-741d-441e-8b95-2786ba33dbf9",
   "metadata": {},
   "outputs": [
    {
     "data": {
      "text/plain": [
       "['😉Hello',\n",
       " 'friends',\n",
       " '!',\n",
       " '🙂🙃',\n",
       " 'Have',\n",
       " 'you',\n",
       " 'learned',\n",
       " 'Python',\n",
       " 'Programming',\n",
       " '?',\n",
       " '🫠🫠🫠',\n",
       " 'Do',\n",
       " 'you',\n",
       " 'like',\n",
       " 'coding',\n",
       " 'in',\n",
       " 'Python',\n",
       " '?',\n",
       " '😉😉😉']"
      ]
     },
     "execution_count": 67,
     "metadata": {},
     "output_type": "execute_result"
    }
   ],
   "source": [
    "word_tokenize(sent)     #Emojis when with word dont get seperated but after punctuation get seperated"
   ]
  },
  {
   "cell_type": "code",
   "execution_count": 70,
   "id": "7df3c894-9a11-4aad-ae8c-f67fedad452b",
   "metadata": {},
   "outputs": [],
   "source": [
    "from nltk.tokenize import TweetTokenizer"
   ]
  },
  {
   "cell_type": "code",
   "execution_count": 72,
   "id": "f80a17e8-da81-4eb4-af6d-20e0403c3d4a",
   "metadata": {},
   "outputs": [],
   "source": [
    "tk = TweetTokenizer()"
   ]
  },
  {
   "cell_type": "code",
   "execution_count": 74,
   "id": "13e2c93b-809f-4ee4-a3ea-47bd1bbdb503",
   "metadata": {
    "scrolled": true
   },
   "outputs": [
    {
     "data": {
      "text/plain": [
       "['😉',\n",
       " 'Hello',\n",
       " 'friends',\n",
       " '!',\n",
       " '🙂',\n",
       " '🙃',\n",
       " 'Have',\n",
       " 'you',\n",
       " 'learned',\n",
       " 'Python',\n",
       " 'Programming',\n",
       " '?',\n",
       " '🫠',\n",
       " '🫠',\n",
       " '🫠',\n",
       " 'Do',\n",
       " 'you',\n",
       " 'like',\n",
       " 'coding',\n",
       " 'in',\n",
       " 'Python',\n",
       " '?',\n",
       " '😉',\n",
       " '😉',\n",
       " '😉']"
      ]
     },
     "execution_count": 74,
     "metadata": {},
     "output_type": "execute_result"
    }
   ],
   "source": [
    "tk.tokenize(sent)"
   ]
  },
  {
   "cell_type": "code",
   "execution_count": null,
   "id": "2fed7af0-2092-458a-a25d-a0df34d9027b",
   "metadata": {},
   "outputs": [],
   "source": []
  }
 ],
 "metadata": {
  "kernelspec": {
   "display_name": "Python 3 (ipykernel)",
   "language": "python",
   "name": "python3"
  },
  "language_info": {
   "codemirror_mode": {
    "name": "ipython",
    "version": 3
   },
   "file_extension": ".py",
   "mimetype": "text/x-python",
   "name": "python",
   "nbconvert_exporter": "python",
   "pygments_lexer": "ipython3",
   "version": "3.11.7"
  }
 },
 "nbformat": 4,
 "nbformat_minor": 5
}
